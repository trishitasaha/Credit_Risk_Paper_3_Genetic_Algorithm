{
  "nbformat": 4,
  "nbformat_minor": 0,
  "metadata": {
    "colab": {
      "provenance": []
    },
    "kernelspec": {
      "name": "python3",
      "display_name": "Python 3"
    },
    "language_info": {
      "name": "python"
    }
  },
  "cells": [
    {
      "cell_type": "code",
      "execution_count": null,
      "metadata": {
        "id": "Epgbzse6Bl74"
      },
      "outputs": [],
      "source": [
        "# import necessary packages\n",
        "import matplotlib.pylab as plt\n",
        "from scipy import interp\n",
        "from sklearn.ensemble import RandomForestClassifier\n",
        "from sklearn.metrics import roc_curve,auc\n",
        "from sklearn.model_selection import StratifiedKFold\n",
        "import matplotlib.patches as patches\n",
        "\n",
        "# Input data files are available in the \"../input/\" directory.\n",
        "# For example, running this (by clicking run or pressing Shift+Enter) will list the files in the input directory\n",
        "from statistics import mean, stdev\n",
        "from sklearn import preprocessing\n",
        "from sklearn.model_selection import StratifiedKFold\n",
        "from sklearn import linear_model\n",
        "from sklearn import datasets\n",
        "\n",
        "import numpy as np\n",
        "import pandas as pd\n",
        "from sklearn.linear_model import LogisticRegression\n",
        "from sklearn.model_selection import train_test_split, GridSearchCV, StratifiedKFold\n",
        "from sklearn.preprocessing import MinMaxScaler\n",
        "from imblearn.over_sampling import SMOTE\n",
        "from imblearn.pipeline import Pipeline as imbpipeline\n",
        "from sklearn.pipeline import Pipeline\n",
        "from sklearn.preprocessing import LabelEncoder\n",
        "from sklearn.model_selection import train_test_split\n",
        "from sklearn.linear_model import LogisticRegression\n",
        "from sklearn.metrics import accuracy_score\n",
        "\n",
        "from scipy import interpolate\n",
        "import matplotlib.pyplot as plt\n",
        "from sklearn.metrics import f1_score\n",
        "from sklearn.metrics import accuracy_score\n",
        "import matplotlib.pyplot as plt\n",
        "from sklearn.metrics import precision_recall_curve\n",
        "from sklearn.metrics import confusion_matrix\n",
        "from sklearn.metrics import roc_curve\n",
        "from sklearn.metrics import f1_score\n",
        "from sklearn.metrics import auc\n",
        "%matplotlib inline\n",
        "from sklearn.metrics import matthews_corrcoef\n",
        "# Define pipelines\n",
        "from sklearn.pipeline import Pipeline\n",
        "from sklearn.preprocessing import MinMaxScaler, Normalizer\n",
        "from keras.layers import Dense\n",
        "from keras.models import Sequential\n",
        "import matplotlib.pyplot as plt\n",
        "\n",
        "from sklearn import svm\n",
        "from sklearn.metrics import auc\n",
        "from sklearn.metrics import RocCurveDisplay\n",
        "from sklearn.model_selection import StratifiedKFold"
      ]
    },
    {
      "cell_type": "code",
      "source": [
        "df=pd.read_csv('UCI_Credit_Card.csv')\n",
        "df"
      ],
      "metadata": {
        "colab": {
          "base_uri": "https://localhost:8080/",
          "height": 488
        },
        "id": "RCZHbQrvC4d2",
        "outputId": "e8afad9b-140b-4680-c0e4-f59c30303827"
      },
      "execution_count": null,
      "outputs": [
        {
          "output_type": "execute_result",
          "data": {
            "text/plain": [
              "          ID  LIMIT_BAL  SEX  EDUCATION  MARRIAGE  AGE  PAY_0  PAY_2  PAY_3  \\\n",
              "0          1    20000.0    2          2         1   24      2      2     -1   \n",
              "1          2   120000.0    2          2         2   26     -1      2      0   \n",
              "2          3    90000.0    2          2         2   34      0      0      0   \n",
              "3          4    50000.0    2          2         1   37      0      0      0   \n",
              "4          5    50000.0    1          2         1   57     -1      0     -1   \n",
              "...      ...        ...  ...        ...       ...  ...    ...    ...    ...   \n",
              "29995  29996   220000.0    1          3         1   39      0      0      0   \n",
              "29996  29997   150000.0    1          3         2   43     -1     -1     -1   \n",
              "29997  29998    30000.0    1          2         2   37      4      3      2   \n",
              "29998  29999    80000.0    1          3         1   41      1     -1      0   \n",
              "29999  30000    50000.0    1          2         1   46      0      0      0   \n",
              "\n",
              "       PAY_4  ...  BILL_AMT4  BILL_AMT5  BILL_AMT6  PAY_AMT1  PAY_AMT2  \\\n",
              "0         -1  ...        0.0        0.0        0.0       0.0     689.0   \n",
              "1          0  ...     3272.0     3455.0     3261.0       0.0    1000.0   \n",
              "2          0  ...    14331.0    14948.0    15549.0    1518.0    1500.0   \n",
              "3          0  ...    28314.0    28959.0    29547.0    2000.0    2019.0   \n",
              "4          0  ...    20940.0    19146.0    19131.0    2000.0   36681.0   \n",
              "...      ...  ...        ...        ...        ...       ...       ...   \n",
              "29995      0  ...    88004.0    31237.0    15980.0    8500.0   20000.0   \n",
              "29996     -1  ...     8979.0     5190.0        0.0    1837.0    3526.0   \n",
              "29997     -1  ...    20878.0    20582.0    19357.0       0.0       0.0   \n",
              "29998      0  ...    52774.0    11855.0    48944.0   85900.0    3409.0   \n",
              "29999      0  ...    36535.0    32428.0    15313.0    2078.0    1800.0   \n",
              "\n",
              "       PAY_AMT3  PAY_AMT4  PAY_AMT5  PAY_AMT6  default.payment.next.month  \n",
              "0           0.0       0.0       0.0       0.0                           1  \n",
              "1        1000.0    1000.0       0.0    2000.0                           1  \n",
              "2        1000.0    1000.0    1000.0    5000.0                           0  \n",
              "3        1200.0    1100.0    1069.0    1000.0                           0  \n",
              "4       10000.0    9000.0     689.0     679.0                           0  \n",
              "...         ...       ...       ...       ...                         ...  \n",
              "29995    5003.0    3047.0    5000.0    1000.0                           0  \n",
              "29996    8998.0     129.0       0.0       0.0                           0  \n",
              "29997   22000.0    4200.0    2000.0    3100.0                           1  \n",
              "29998    1178.0    1926.0   52964.0    1804.0                           1  \n",
              "29999    1430.0    1000.0    1000.0    1000.0                           1  \n",
              "\n",
              "[30000 rows x 25 columns]"
            ],
            "text/html": [
              "\n",
              "  <div id=\"df-77f91d81-e527-4c86-a515-8c6bca71e0a7\">\n",
              "    <div class=\"colab-df-container\">\n",
              "      <div>\n",
              "<style scoped>\n",
              "    .dataframe tbody tr th:only-of-type {\n",
              "        vertical-align: middle;\n",
              "    }\n",
              "\n",
              "    .dataframe tbody tr th {\n",
              "        vertical-align: top;\n",
              "    }\n",
              "\n",
              "    .dataframe thead th {\n",
              "        text-align: right;\n",
              "    }\n",
              "</style>\n",
              "<table border=\"1\" class=\"dataframe\">\n",
              "  <thead>\n",
              "    <tr style=\"text-align: right;\">\n",
              "      <th></th>\n",
              "      <th>ID</th>\n",
              "      <th>LIMIT_BAL</th>\n",
              "      <th>SEX</th>\n",
              "      <th>EDUCATION</th>\n",
              "      <th>MARRIAGE</th>\n",
              "      <th>AGE</th>\n",
              "      <th>PAY_0</th>\n",
              "      <th>PAY_2</th>\n",
              "      <th>PAY_3</th>\n",
              "      <th>PAY_4</th>\n",
              "      <th>...</th>\n",
              "      <th>BILL_AMT4</th>\n",
              "      <th>BILL_AMT5</th>\n",
              "      <th>BILL_AMT6</th>\n",
              "      <th>PAY_AMT1</th>\n",
              "      <th>PAY_AMT2</th>\n",
              "      <th>PAY_AMT3</th>\n",
              "      <th>PAY_AMT4</th>\n",
              "      <th>PAY_AMT5</th>\n",
              "      <th>PAY_AMT6</th>\n",
              "      <th>default.payment.next.month</th>\n",
              "    </tr>\n",
              "  </thead>\n",
              "  <tbody>\n",
              "    <tr>\n",
              "      <th>0</th>\n",
              "      <td>1</td>\n",
              "      <td>20000.0</td>\n",
              "      <td>2</td>\n",
              "      <td>2</td>\n",
              "      <td>1</td>\n",
              "      <td>24</td>\n",
              "      <td>2</td>\n",
              "      <td>2</td>\n",
              "      <td>-1</td>\n",
              "      <td>-1</td>\n",
              "      <td>...</td>\n",
              "      <td>0.0</td>\n",
              "      <td>0.0</td>\n",
              "      <td>0.0</td>\n",
              "      <td>0.0</td>\n",
              "      <td>689.0</td>\n",
              "      <td>0.0</td>\n",
              "      <td>0.0</td>\n",
              "      <td>0.0</td>\n",
              "      <td>0.0</td>\n",
              "      <td>1</td>\n",
              "    </tr>\n",
              "    <tr>\n",
              "      <th>1</th>\n",
              "      <td>2</td>\n",
              "      <td>120000.0</td>\n",
              "      <td>2</td>\n",
              "      <td>2</td>\n",
              "      <td>2</td>\n",
              "      <td>26</td>\n",
              "      <td>-1</td>\n",
              "      <td>2</td>\n",
              "      <td>0</td>\n",
              "      <td>0</td>\n",
              "      <td>...</td>\n",
              "      <td>3272.0</td>\n",
              "      <td>3455.0</td>\n",
              "      <td>3261.0</td>\n",
              "      <td>0.0</td>\n",
              "      <td>1000.0</td>\n",
              "      <td>1000.0</td>\n",
              "      <td>1000.0</td>\n",
              "      <td>0.0</td>\n",
              "      <td>2000.0</td>\n",
              "      <td>1</td>\n",
              "    </tr>\n",
              "    <tr>\n",
              "      <th>2</th>\n",
              "      <td>3</td>\n",
              "      <td>90000.0</td>\n",
              "      <td>2</td>\n",
              "      <td>2</td>\n",
              "      <td>2</td>\n",
              "      <td>34</td>\n",
              "      <td>0</td>\n",
              "      <td>0</td>\n",
              "      <td>0</td>\n",
              "      <td>0</td>\n",
              "      <td>...</td>\n",
              "      <td>14331.0</td>\n",
              "      <td>14948.0</td>\n",
              "      <td>15549.0</td>\n",
              "      <td>1518.0</td>\n",
              "      <td>1500.0</td>\n",
              "      <td>1000.0</td>\n",
              "      <td>1000.0</td>\n",
              "      <td>1000.0</td>\n",
              "      <td>5000.0</td>\n",
              "      <td>0</td>\n",
              "    </tr>\n",
              "    <tr>\n",
              "      <th>3</th>\n",
              "      <td>4</td>\n",
              "      <td>50000.0</td>\n",
              "      <td>2</td>\n",
              "      <td>2</td>\n",
              "      <td>1</td>\n",
              "      <td>37</td>\n",
              "      <td>0</td>\n",
              "      <td>0</td>\n",
              "      <td>0</td>\n",
              "      <td>0</td>\n",
              "      <td>...</td>\n",
              "      <td>28314.0</td>\n",
              "      <td>28959.0</td>\n",
              "      <td>29547.0</td>\n",
              "      <td>2000.0</td>\n",
              "      <td>2019.0</td>\n",
              "      <td>1200.0</td>\n",
              "      <td>1100.0</td>\n",
              "      <td>1069.0</td>\n",
              "      <td>1000.0</td>\n",
              "      <td>0</td>\n",
              "    </tr>\n",
              "    <tr>\n",
              "      <th>4</th>\n",
              "      <td>5</td>\n",
              "      <td>50000.0</td>\n",
              "      <td>1</td>\n",
              "      <td>2</td>\n",
              "      <td>1</td>\n",
              "      <td>57</td>\n",
              "      <td>-1</td>\n",
              "      <td>0</td>\n",
              "      <td>-1</td>\n",
              "      <td>0</td>\n",
              "      <td>...</td>\n",
              "      <td>20940.0</td>\n",
              "      <td>19146.0</td>\n",
              "      <td>19131.0</td>\n",
              "      <td>2000.0</td>\n",
              "      <td>36681.0</td>\n",
              "      <td>10000.0</td>\n",
              "      <td>9000.0</td>\n",
              "      <td>689.0</td>\n",
              "      <td>679.0</td>\n",
              "      <td>0</td>\n",
              "    </tr>\n",
              "    <tr>\n",
              "      <th>...</th>\n",
              "      <td>...</td>\n",
              "      <td>...</td>\n",
              "      <td>...</td>\n",
              "      <td>...</td>\n",
              "      <td>...</td>\n",
              "      <td>...</td>\n",
              "      <td>...</td>\n",
              "      <td>...</td>\n",
              "      <td>...</td>\n",
              "      <td>...</td>\n",
              "      <td>...</td>\n",
              "      <td>...</td>\n",
              "      <td>...</td>\n",
              "      <td>...</td>\n",
              "      <td>...</td>\n",
              "      <td>...</td>\n",
              "      <td>...</td>\n",
              "      <td>...</td>\n",
              "      <td>...</td>\n",
              "      <td>...</td>\n",
              "      <td>...</td>\n",
              "    </tr>\n",
              "    <tr>\n",
              "      <th>29995</th>\n",
              "      <td>29996</td>\n",
              "      <td>220000.0</td>\n",
              "      <td>1</td>\n",
              "      <td>3</td>\n",
              "      <td>1</td>\n",
              "      <td>39</td>\n",
              "      <td>0</td>\n",
              "      <td>0</td>\n",
              "      <td>0</td>\n",
              "      <td>0</td>\n",
              "      <td>...</td>\n",
              "      <td>88004.0</td>\n",
              "      <td>31237.0</td>\n",
              "      <td>15980.0</td>\n",
              "      <td>8500.0</td>\n",
              "      <td>20000.0</td>\n",
              "      <td>5003.0</td>\n",
              "      <td>3047.0</td>\n",
              "      <td>5000.0</td>\n",
              "      <td>1000.0</td>\n",
              "      <td>0</td>\n",
              "    </tr>\n",
              "    <tr>\n",
              "      <th>29996</th>\n",
              "      <td>29997</td>\n",
              "      <td>150000.0</td>\n",
              "      <td>1</td>\n",
              "      <td>3</td>\n",
              "      <td>2</td>\n",
              "      <td>43</td>\n",
              "      <td>-1</td>\n",
              "      <td>-1</td>\n",
              "      <td>-1</td>\n",
              "      <td>-1</td>\n",
              "      <td>...</td>\n",
              "      <td>8979.0</td>\n",
              "      <td>5190.0</td>\n",
              "      <td>0.0</td>\n",
              "      <td>1837.0</td>\n",
              "      <td>3526.0</td>\n",
              "      <td>8998.0</td>\n",
              "      <td>129.0</td>\n",
              "      <td>0.0</td>\n",
              "      <td>0.0</td>\n",
              "      <td>0</td>\n",
              "    </tr>\n",
              "    <tr>\n",
              "      <th>29997</th>\n",
              "      <td>29998</td>\n",
              "      <td>30000.0</td>\n",
              "      <td>1</td>\n",
              "      <td>2</td>\n",
              "      <td>2</td>\n",
              "      <td>37</td>\n",
              "      <td>4</td>\n",
              "      <td>3</td>\n",
              "      <td>2</td>\n",
              "      <td>-1</td>\n",
              "      <td>...</td>\n",
              "      <td>20878.0</td>\n",
              "      <td>20582.0</td>\n",
              "      <td>19357.0</td>\n",
              "      <td>0.0</td>\n",
              "      <td>0.0</td>\n",
              "      <td>22000.0</td>\n",
              "      <td>4200.0</td>\n",
              "      <td>2000.0</td>\n",
              "      <td>3100.0</td>\n",
              "      <td>1</td>\n",
              "    </tr>\n",
              "    <tr>\n",
              "      <th>29998</th>\n",
              "      <td>29999</td>\n",
              "      <td>80000.0</td>\n",
              "      <td>1</td>\n",
              "      <td>3</td>\n",
              "      <td>1</td>\n",
              "      <td>41</td>\n",
              "      <td>1</td>\n",
              "      <td>-1</td>\n",
              "      <td>0</td>\n",
              "      <td>0</td>\n",
              "      <td>...</td>\n",
              "      <td>52774.0</td>\n",
              "      <td>11855.0</td>\n",
              "      <td>48944.0</td>\n",
              "      <td>85900.0</td>\n",
              "      <td>3409.0</td>\n",
              "      <td>1178.0</td>\n",
              "      <td>1926.0</td>\n",
              "      <td>52964.0</td>\n",
              "      <td>1804.0</td>\n",
              "      <td>1</td>\n",
              "    </tr>\n",
              "    <tr>\n",
              "      <th>29999</th>\n",
              "      <td>30000</td>\n",
              "      <td>50000.0</td>\n",
              "      <td>1</td>\n",
              "      <td>2</td>\n",
              "      <td>1</td>\n",
              "      <td>46</td>\n",
              "      <td>0</td>\n",
              "      <td>0</td>\n",
              "      <td>0</td>\n",
              "      <td>0</td>\n",
              "      <td>...</td>\n",
              "      <td>36535.0</td>\n",
              "      <td>32428.0</td>\n",
              "      <td>15313.0</td>\n",
              "      <td>2078.0</td>\n",
              "      <td>1800.0</td>\n",
              "      <td>1430.0</td>\n",
              "      <td>1000.0</td>\n",
              "      <td>1000.0</td>\n",
              "      <td>1000.0</td>\n",
              "      <td>1</td>\n",
              "    </tr>\n",
              "  </tbody>\n",
              "</table>\n",
              "<p>30000 rows × 25 columns</p>\n",
              "</div>\n",
              "      <button class=\"colab-df-convert\" onclick=\"convertToInteractive('df-77f91d81-e527-4c86-a515-8c6bca71e0a7')\"\n",
              "              title=\"Convert this dataframe to an interactive table.\"\n",
              "              style=\"display:none;\">\n",
              "        \n",
              "  <svg xmlns=\"http://www.w3.org/2000/svg\" height=\"24px\"viewBox=\"0 0 24 24\"\n",
              "       width=\"24px\">\n",
              "    <path d=\"M0 0h24v24H0V0z\" fill=\"none\"/>\n",
              "    <path d=\"M18.56 5.44l.94 2.06.94-2.06 2.06-.94-2.06-.94-.94-2.06-.94 2.06-2.06.94zm-11 1L8.5 8.5l.94-2.06 2.06-.94-2.06-.94L8.5 2.5l-.94 2.06-2.06.94zm10 10l.94 2.06.94-2.06 2.06-.94-2.06-.94-.94-2.06-.94 2.06-2.06.94z\"/><path d=\"M17.41 7.96l-1.37-1.37c-.4-.4-.92-.59-1.43-.59-.52 0-1.04.2-1.43.59L10.3 9.45l-7.72 7.72c-.78.78-.78 2.05 0 2.83L4 21.41c.39.39.9.59 1.41.59.51 0 1.02-.2 1.41-.59l7.78-7.78 2.81-2.81c.8-.78.8-2.07 0-2.86zM5.41 20L4 18.59l7.72-7.72 1.47 1.35L5.41 20z\"/>\n",
              "  </svg>\n",
              "      </button>\n",
              "      \n",
              "  <style>\n",
              "    .colab-df-container {\n",
              "      display:flex;\n",
              "      flex-wrap:wrap;\n",
              "      gap: 12px;\n",
              "    }\n",
              "\n",
              "    .colab-df-convert {\n",
              "      background-color: #E8F0FE;\n",
              "      border: none;\n",
              "      border-radius: 50%;\n",
              "      cursor: pointer;\n",
              "      display: none;\n",
              "      fill: #1967D2;\n",
              "      height: 32px;\n",
              "      padding: 0 0 0 0;\n",
              "      width: 32px;\n",
              "    }\n",
              "\n",
              "    .colab-df-convert:hover {\n",
              "      background-color: #E2EBFA;\n",
              "      box-shadow: 0px 1px 2px rgba(60, 64, 67, 0.3), 0px 1px 3px 1px rgba(60, 64, 67, 0.15);\n",
              "      fill: #174EA6;\n",
              "    }\n",
              "\n",
              "    [theme=dark] .colab-df-convert {\n",
              "      background-color: #3B4455;\n",
              "      fill: #D2E3FC;\n",
              "    }\n",
              "\n",
              "    [theme=dark] .colab-df-convert:hover {\n",
              "      background-color: #434B5C;\n",
              "      box-shadow: 0px 1px 3px 1px rgba(0, 0, 0, 0.15);\n",
              "      filter: drop-shadow(0px 1px 2px rgba(0, 0, 0, 0.3));\n",
              "      fill: #FFFFFF;\n",
              "    }\n",
              "  </style>\n",
              "\n",
              "      <script>\n",
              "        const buttonEl =\n",
              "          document.querySelector('#df-77f91d81-e527-4c86-a515-8c6bca71e0a7 button.colab-df-convert');\n",
              "        buttonEl.style.display =\n",
              "          google.colab.kernel.accessAllowed ? 'block' : 'none';\n",
              "\n",
              "        async function convertToInteractive(key) {\n",
              "          const element = document.querySelector('#df-77f91d81-e527-4c86-a515-8c6bca71e0a7');\n",
              "          const dataTable =\n",
              "            await google.colab.kernel.invokeFunction('convertToInteractive',\n",
              "                                                     [key], {});\n",
              "          if (!dataTable) return;\n",
              "\n",
              "          const docLinkHtml = 'Like what you see? Visit the ' +\n",
              "            '<a target=\"_blank\" href=https://colab.research.google.com/notebooks/data_table.ipynb>data table notebook</a>'\n",
              "            + ' to learn more about interactive tables.';\n",
              "          element.innerHTML = '';\n",
              "          dataTable['output_type'] = 'display_data';\n",
              "          await google.colab.output.renderOutput(dataTable, element);\n",
              "          const docLink = document.createElement('div');\n",
              "          docLink.innerHTML = docLinkHtml;\n",
              "          element.appendChild(docLink);\n",
              "        }\n",
              "      </script>\n",
              "    </div>\n",
              "  </div>\n",
              "  "
            ]
          },
          "metadata": {},
          "execution_count": 2
        }
      ]
    },
    {
      "cell_type": "code",
      "source": [
        "df.drop(['LIMIT_BAL', 'PAY_0', 'PAY_2', 'PAY_3', 'PAY_4', 'PAY_5', 'PAY_6', 'PAY_AMT1'],axis=1, inplace=True)"
      ],
      "metadata": {
        "id": "Fo1xsjWxDO6o"
      },
      "execution_count": null,
      "outputs": []
    },
    {
      "cell_type": "code",
      "source": [
        "X = df.drop('default.payment.next.month',axis=1).values\n",
        "y = df['default.payment.next.month'].values"
      ],
      "metadata": {
        "id": "xCTpuS1eDTT7"
      },
      "execution_count": null,
      "outputs": []
    },
    {
      "cell_type": "code",
      "source": [
        "from imblearn.over_sampling import KMeansSMOTE\n",
        "from imblearn.combine import SMOTEENN\n",
        "smote_kmeans = SMOTEENN()\n",
        "X_smotekmeans, y_smotekmeans = smote_kmeans.fit_resample(X, y)"
      ],
      "metadata": {
        "id": "jKNjUtogDWCg"
      },
      "execution_count": null,
      "outputs": []
    },
    {
      "cell_type": "code",
      "source": [
        "from collections import Counter\n",
        "print(\"Before SMOTE :\" , Counter(y))\n",
        "print(\"After SMOTE :\" , Counter(y_smotekmeans))"
      ],
      "metadata": {
        "colab": {
          "base_uri": "https://localhost:8080/"
        },
        "id": "JEOQlwGKDY3g",
        "outputId": "3f81afe9-8901-482c-ffeb-de975478b3f8"
      },
      "execution_count": null,
      "outputs": [
        {
          "output_type": "stream",
          "name": "stdout",
          "text": [
            "Before SMOTE : Counter({0: 23364, 1: 6636})\n",
            "After SMOTE : Counter({1: 17563, 0: 9979})\n"
          ]
        }
      ]
    },
    {
      "cell_type": "code",
      "source": [
        "# Single classifier based models\n",
        "from sklearn.naive_bayes import GaussianNB\n",
        "nb = GaussianNB()\n",
        "from sklearn.tree import DecisionTreeClassifier # Import Decision Tree Classifier\n",
        "dt = DecisionTreeClassifier()\n",
        "from sklearn.linear_model import LogisticRegression\n",
        "lr = LogisticRegression(random_state = 0)\n",
        "from sklearn.neighbors import KNeighborsClassifier\n",
        "knn = KNeighborsClassifier(n_neighbors=7)\n",
        "\n",
        "# Ensemble Modles\n",
        "from sklearn.ensemble import RandomForestClassifier\n",
        "# creating a RF classifier\n",
        "rf = RandomForestClassifier(n_estimators = 100) \n",
        "from sklearn.ensemble import ExtraTreesClassifier\n",
        "extr = ExtraTreesClassifier()\n",
        "import xgboost as xgb\n",
        "xgb = xgb.XGBClassifier()\n",
        "from sklearn.ensemble import AdaBoostClassifier\n",
        "adb = AdaBoostClassifier()"
      ],
      "metadata": {
        "id": "dMXGD57-Dwzf"
      },
      "execution_count": null,
      "outputs": []
    },
    {
      "cell_type": "code",
      "source": [
        "#Accuracy(Naive Bayes)\n",
        "skf = StratifiedKFold(n_splits=10, shuffle=True, random_state=1)\n",
        "lst_accu_stratified = []\n",
        "\n",
        "  \n",
        "for train_index, test_index in skf.split(X_smotekmeans, y_smotekmeans):\n",
        "    x_train_fold, x_test_fold = X_smotekmeans[train_index], X_smotekmeans[test_index]\n",
        "    y_smotekmeans_train_fold, y_smotekmeans_test_fold = y_smotekmeans[train_index], y_smotekmeans[test_index]\n",
        "    nb.fit(x_train_fold, y_smotekmeans_train_fold)\n",
        "    lst_accu_stratified.append(nb.score(x_test_fold, y_smotekmeans_test_fold))\n",
        "\n",
        "\n",
        "# Print the output.\n",
        "print('Cross validation accuracy:', lst_accu_stratified)\n",
        "print('\\nMaximum Accuracy That can be obtained from this model is:',\n",
        "      max(lst_accu_stratified)*100, '%')\n",
        "print('\\nMinimum Accuracy:',\n",
        "      min(lst_accu_stratified)*100, '%')\n",
        "print('\\nOverall Accuracy:',\n",
        "      mean(lst_accu_stratified)*100, '%')\n",
        "print('\\nStandard Deviation is:', stdev(lst_accu_stratified))"
      ],
      "metadata": {
        "colab": {
          "base_uri": "https://localhost:8080/"
        },
        "id": "qqEcHfoYD1__",
        "outputId": "8ce4927d-e070-42d4-8141-f1550d9785c7"
      },
      "execution_count": null,
      "outputs": [
        {
          "output_type": "stream",
          "name": "stdout",
          "text": [
            "Cross validation accuracy: [0.6842105263157895, 0.6856624319419238, 0.6713870733478576, 0.6822803195352215, 0.6862745098039216, 0.6742919389978214, 0.6724763979665941, 0.6830065359477124, 0.6753812636165577, 0.6724763979665941]\n",
            "\n",
            "Maximum Accuracy That can be obtained from this model is: 68.62745098039215 %\n",
            "\n",
            "Minimum Accuracy: 67.13870733478576 %\n",
            "\n",
            "Overall Accuracy: 67.87447395439995 %\n",
            "\n",
            "Standard Deviation is: 0.006045658083006927\n"
          ]
        }
      ]
    },
    {
      "cell_type": "code",
      "source": [
        "#F1_score(Naive Bayes)\n",
        "skf = StratifiedKFold(n_splits=10, shuffle=True, random_state=1)\n",
        "lst_accu_stratified = []\n",
        "\n",
        "  \n",
        "for train_index, test_index in skf.split(X_smotekmeans, y_smotekmeans):\n",
        "    x_train_fold, x_test_fold = X_smotekmeans[train_index], X_smotekmeans[test_index]\n",
        "    y_smotekmeans_train_fold, y_smotekmeans_test_fold = y_smotekmeans[train_index], y_smotekmeans[test_index]\n",
        "    nb.fit(x_train_fold, y_smotekmeans_train_fold)\n",
        "    pred_values = nb.predict(x_test_fold)\n",
        "    acc = f1_score(pred_values , y_smotekmeans_test_fold)\n",
        "    lst_accu_stratified.append(acc)  \n",
        "\n",
        "# Print the output.\n",
        "lst_accu_stratified = sum(lst_accu_stratified)/10\n",
        "print('F1 score:', format(lst_accu_stratified))"
      ],
      "metadata": {
        "colab": {
          "base_uri": "https://localhost:8080/"
        },
        "id": "uupy6L5MED2U",
        "outputId": "314c38d4-13a5-4cd0-d9cc-4d84c4177f77"
      },
      "execution_count": null,
      "outputs": [
        {
          "output_type": "stream",
          "name": "stdout",
          "text": [
            "F1 score: 0.7929897126475659\n"
          ]
        }
      ]
    },
    {
      "cell_type": "code",
      "source": [
        "#Accuracy(Decision Tree)\n",
        "skf = StratifiedKFold(n_splits=10, shuffle=True, random_state=1)\n",
        "lst_accu_stratified = []\n",
        "\n",
        "  \n",
        "for train_index, test_index in skf.split(X_smotekmeans, y_smotekmeans):\n",
        "    x_train_fold, x_test_fold = X_smotekmeans[train_index], X_smotekmeans[test_index]\n",
        "    y_smotekmeans_train_fold, y_smotekmeans_test_fold = y_smotekmeans[train_index], y_smotekmeans[test_index]\n",
        "    dt.fit(x_train_fold, y_smotekmeans_train_fold)\n",
        "    lst_accu_stratified.append(dt.score(x_test_fold, y_smotekmeans_test_fold))\n",
        "\n",
        "\n",
        "# Print the output.\n",
        "print('Cross validation accuracy:', lst_accu_stratified)\n",
        "print('\\nMaximum Accuracy That can be obtained from this model is:',\n",
        "      max(lst_accu_stratified)*100, '%')\n",
        "print('\\nMinimum Accuracy:',\n",
        "      min(lst_accu_stratified)*100, '%')\n",
        "print('\\nOverall Accuracy:',\n",
        "      mean(lst_accu_stratified)*100, '%')\n",
        "print('\\nStandard Deviation is:', stdev(lst_accu_stratified))"
      ],
      "metadata": {
        "colab": {
          "base_uri": "https://localhost:8080/"
        },
        "id": "HDPIqwzNEI0i",
        "outputId": "c9e9fbec-5547-4737-97c5-05cb30d26377"
      },
      "execution_count": null,
      "outputs": [
        {
          "output_type": "stream",
          "name": "stdout",
          "text": [
            "Cross validation accuracy: [0.8275862068965517, 0.8250453720508167, 0.8253449527959332, 0.8300653594771242, 0.8311546840958606, 0.8242556281771968, 0.8329702251270878, 0.8402323892519971, 0.8275236020334059, 0.8282498184458968]\n",
            "\n",
            "Maximum Accuracy That can be obtained from this model is: 84.0232389251997 %\n",
            "\n",
            "Minimum Accuracy: 82.42556281771968 %\n",
            "\n",
            "Overall Accuracy: 82.92428238351872 %\n",
            "\n",
            "Standard Deviation is: 0.004753549862061062\n"
          ]
        }
      ]
    },
    {
      "cell_type": "code",
      "source": [
        "#F1_score(Decision Tree)\n",
        "skf = StratifiedKFold(n_splits=10, shuffle=True, random_state=1)\n",
        "lst_accu_stratified = []\n",
        "\n",
        "  \n",
        "for train_index, test_index in skf.split(X_smotekmeans, y_smotekmeans):\n",
        "    x_train_fold, x_test_fold = X_smotekmeans[train_index], X_smotekmeans[test_index]\n",
        "    y_smotekmeans_train_fold, y_smotekmeans_test_fold = y_smotekmeans[train_index], y_smotekmeans[test_index]\n",
        "    dt.fit(x_train_fold, y_smotekmeans_train_fold)\n",
        "    pred_values = dt.predict(x_test_fold)\n",
        "    acc = f1_score(pred_values , y_smotekmeans_test_fold)\n",
        "    lst_accu_stratified.append(acc)  \n",
        "\n",
        "# Print the output.\n",
        "lst_accu_stratified = sum(lst_accu_stratified)/10\n",
        "print('F1 score:', format(lst_accu_stratified))"
      ],
      "metadata": {
        "colab": {
          "base_uri": "https://localhost:8080/"
        },
        "id": "PFJia3fqEN34",
        "outputId": "f1f11215-ae6c-4325-99bf-de3334ab419e"
      },
      "execution_count": null,
      "outputs": [
        {
          "output_type": "stream",
          "name": "stdout",
          "text": [
            "F1 score: 0.8672225734741138\n"
          ]
        }
      ]
    },
    {
      "cell_type": "code",
      "source": [
        "#Accuracy(K Nearest Neighbor)\n",
        "skf = StratifiedKFold(n_splits=10, shuffle=True, random_state=1)\n",
        "lst_accu_stratified = []\n",
        "\n",
        "  \n",
        "for train_index, test_index in skf.split(X_smotekmeans, y_smotekmeans):\n",
        "    x_train_fold, x_test_fold = X_smotekmeans[train_index], X_smotekmeans[test_index]\n",
        "    y_smotekmeans_train_fold, y_smotekmeans_test_fold = y_smotekmeans[train_index], y_smotekmeans[test_index]\n",
        "    knn.fit(x_train_fold, y_smotekmeans_train_fold)\n",
        "    lst_accu_stratified.append(knn.score(x_test_fold, y_smotekmeans_test_fold))\n",
        "\n",
        "\n",
        "# Print the output.\n",
        "print('Cross validation accuracy:', lst_accu_stratified)\n",
        "print('\\nMaximum Accuracy That can be obtained from this model is:',\n",
        "      max(lst_accu_stratified)*100, '%')\n",
        "print('\\nMinimum Accuracy:',\n",
        "      min(lst_accu_stratified)*100, '%')\n",
        "print('\\nOverall Accuracy:',\n",
        "      mean(lst_accu_stratified)*100, '%')\n",
        "print('\\nStandard Deviation is:', stdev(lst_accu_stratified))"
      ],
      "metadata": {
        "colab": {
          "base_uri": "https://localhost:8080/"
        },
        "id": "6kApd7wRES9O",
        "outputId": "46e7a7fb-e9d9-4e50-9b86-290ae6aa4021"
      },
      "execution_count": null,
      "outputs": [
        {
          "output_type": "stream",
          "name": "stdout",
          "text": [
            "Cross validation accuracy: [0.8787658802177858, 0.8809437386569873, 0.8823529411764706, 0.8809005083514887, 0.8863471314451706, 0.8769063180827886, 0.8801742919389978, 0.8877995642701525, 0.8830791575889615, 0.8689179375453885]\n",
            "\n",
            "Maximum Accuracy That can be obtained from this model is: 88.77995642701525 %\n",
            "\n",
            "Minimum Accuracy: 86.89179375453885 %\n",
            "\n",
            "Overall Accuracy: 88.06187469274191 %\n",
            "\n",
            "Standard Deviation is: 0.005248770329384379\n"
          ]
        }
      ]
    },
    {
      "cell_type": "code",
      "source": [
        "#F1_score(K Nearest Neighbor)\n",
        "skf = StratifiedKFold(n_splits=10, shuffle=True, random_state=1)\n",
        "lst_accu_stratified = []\n",
        "\n",
        "  \n",
        "for train_index, test_index in skf.split(X_smotekmeans, y_smotekmeans):\n",
        "    x_train_fold, x_test_fold = X_smotekmeans[train_index], X_smotekmeans[test_index]\n",
        "    y_smotekmeans_train_fold, y_smotekmeans_test_fold = y_smotekmeans[train_index], y_smotekmeans[test_index]\n",
        "    knn.fit(x_train_fold, y_smotekmeans_train_fold)\n",
        "    pred_values = knn.predict(x_test_fold)\n",
        "    acc = f1_score(pred_values , y_smotekmeans_test_fold)\n",
        "    lst_accu_stratified.append(acc)  \n",
        "\n",
        "# Print the output.\n",
        "lst_accu_stratified = sum(lst_accu_stratified)/10\n",
        "print('F1 score:', format(lst_accu_stratified))"
      ],
      "metadata": {
        "colab": {
          "base_uri": "https://localhost:8080/"
        },
        "id": "sLHqNcJIEXLj",
        "outputId": "3b685471-2705-42c2-9d8d-ee387c51a05d"
      },
      "execution_count": null,
      "outputs": [
        {
          "output_type": "stream",
          "name": "stdout",
          "text": [
            "F1 score: 0.9118357728209429\n"
          ]
        }
      ]
    },
    {
      "cell_type": "code",
      "source": [
        "#Accuracy(Random Forest)\n",
        "skf = StratifiedKFold(n_splits=10, shuffle=True, random_state=1)\n",
        "lst_accu_stratified = []\n",
        "\n",
        "  \n",
        "for train_index, test_index in skf.split(X_smotekmeans, y_smotekmeans):\n",
        "    x_train_fold, x_test_fold = X_smotekmeans[train_index], X_smotekmeans[test_index]\n",
        "    y_smotekmeans_train_fold, y_smotekmeans_test_fold = y_smotekmeans[train_index], y_smotekmeans[test_index]\n",
        "    rf.fit(x_train_fold, y_smotekmeans_train_fold)\n",
        "    lst_accu_stratified.append(rf.score(x_test_fold, y_smotekmeans_test_fold))\n",
        "\n",
        "\n",
        "# Print the output.\n",
        "print('Cross validation accuracy:', lst_accu_stratified)\n",
        "print('\\nMaximum Accuracy That can be obtained from this model is:',\n",
        "      max(lst_accu_stratified)*100, '%')\n",
        "print('\\nMinimum Accuracy:',\n",
        "      min(lst_accu_stratified)*100, '%')\n",
        "print('\\nOverall Accuracy:',\n",
        "      mean(lst_accu_stratified)*100, '%')\n",
        "print('\\nStandard Deviation is:', stdev(lst_accu_stratified))"
      ],
      "metadata": {
        "colab": {
          "base_uri": "https://localhost:8080/"
        },
        "id": "qBiP6uR3EdR7",
        "outputId": "421771b0-eddc-4da9-8869-2b9e5a1ea639"
      },
      "execution_count": null,
      "outputs": [
        {
          "output_type": "stream",
          "name": "stdout",
          "text": [
            "Cross validation accuracy: [0.9012704174228675, 0.8882032667876588, 0.8936092955700798, 0.8994190268700073, 0.9099491648511256, 0.90159767610748, 0.8961510530137982, 0.9135802469135802, 0.9074074074074074, 0.9019607843137255]\n",
            "\n",
            "Maximum Accuracy That can be obtained from this model is: 91.35802469135803 %\n",
            "\n",
            "Minimum Accuracy: 88.82032667876588 %\n",
            "\n",
            "Overall Accuracy: 90.13148339257731 %\n",
            "\n",
            "Standard Deviation is: 0.007631498572918877\n"
          ]
        }
      ]
    },
    {
      "cell_type": "code",
      "source": [
        "#F1_score(Random Forest)\n",
        "skf = StratifiedKFold(n_splits=10, shuffle=True, random_state=1)\n",
        "lst_accu_stratified = []\n",
        "\n",
        "  \n",
        "for train_index, test_index in skf.split(X_smotekmeans, y_smotekmeans):\n",
        "    x_train_fold, x_test_fold = X_smotekmeans[train_index], X_smotekmeans[test_index]\n",
        "    y_smotekmeans_train_fold, y_smotekmeans_test_fold = y_smotekmeans[train_index], y_smotekmeans[test_index]\n",
        "    rf.fit(x_train_fold, y_smotekmeans_train_fold)\n",
        "    pred_values = rf.predict(x_test_fold)\n",
        "    acc = f1_score(pred_values , y_smotekmeans_test_fold)\n",
        "    lst_accu_stratified.append(acc)  \n",
        "\n",
        "# Print the output.\n",
        "lst_accu_stratified = sum(lst_accu_stratified)/10\n",
        "print('F1 score:', format(lst_accu_stratified))"
      ],
      "metadata": {
        "colab": {
          "base_uri": "https://localhost:8080/"
        },
        "id": "Sg26wbhPEjjS",
        "outputId": "1c4b23b0-1c27-4c6c-be0b-d468a010709c"
      },
      "execution_count": null,
      "outputs": [
        {
          "output_type": "stream",
          "name": "stdout",
          "text": [
            "F1 score: 0.9227106947147614\n"
          ]
        }
      ]
    },
    {
      "cell_type": "code",
      "source": [
        "#Accuracy(Extra Tree)\n",
        "skf = StratifiedKFold(n_splits=10, shuffle=True, random_state=1)\n",
        "lst_accu_stratified = []\n",
        "\n",
        "  \n",
        "for train_index, test_index in skf.split(X_smotekmeans, y_smotekmeans):\n",
        "    x_train_fold, x_test_fold = X_smotekmeans[train_index], X_smotekmeans[test_index]\n",
        "    y_smotekmeans_train_fold, y_smotekmeans_test_fold = y_smotekmeans[train_index], y_smotekmeans[test_index]\n",
        "    extr.fit(x_train_fold, y_smotekmeans_train_fold)\n",
        "    lst_accu_stratified.append(extr.score(x_test_fold, y_smotekmeans_test_fold))\n",
        "\n",
        "\n",
        "# Print the output.\n",
        "print('Cross validation accuracy:', lst_accu_stratified)\n",
        "print('\\nMaximum Accuracy That can be obtained from this model is:',\n",
        "      max(lst_accu_stratified)*100, '%')\n",
        "print('\\nMinimum Accuracy:',\n",
        "      min(lst_accu_stratified)*100, '%')\n",
        "print('\\nOverall Accuracy:',\n",
        "      mean(lst_accu_stratified)*100, '%')\n",
        "print('\\nStandard Deviation is:', stdev(lst_accu_stratified))"
      ],
      "metadata": {
        "colab": {
          "base_uri": "https://localhost:8080/"
        },
        "id": "elugzrLyEn38",
        "outputId": "aad8a980-edf8-4401-8a49-c0c4adacf50d"
      },
      "execution_count": null,
      "outputs": [
        {
          "output_type": "stream",
          "name": "stdout",
          "text": [
            "Cross validation accuracy: [0.9136116152450091, 0.9165154264972777, 0.9179375453885258, 0.9248366013071896, 0.9317356572258533, 0.915758896151053, 0.9128540305010894, 0.9317356572258533, 0.9277414669571532, 0.9237472766884531]\n",
            "\n",
            "Maximum Accuracy That can be obtained from this model is: 93.17356572258532 %\n",
            "\n",
            "Minimum Accuracy: 91.28540305010894 %\n",
            "\n",
            "Overall Accuracy: 92.16474173187457 %\n",
            "\n",
            "Standard Deviation is: 0.007241361454961485\n"
          ]
        }
      ]
    },
    {
      "cell_type": "code",
      "source": [
        "#F1_score(Extra Tree)\n",
        "skf = StratifiedKFold(n_splits=10, shuffle=True, random_state=1)\n",
        "lst_accu_stratified = []\n",
        "\n",
        "  \n",
        "for train_index, test_index in skf.split(X_smotekmeans, y_smotekmeans):\n",
        "    x_train_fold, x_test_fold = X_smotekmeans[train_index], X_smotekmeans[test_index]\n",
        "    y_smotekmeans_train_fold, y_smotekmeans_test_fold = y_smotekmeans[train_index], y_smotekmeans[test_index]\n",
        "    extr.fit(x_train_fold, y_smotekmeans_train_fold)\n",
        "    pred_values = extr.predict(x_test_fold)\n",
        "    acc = f1_score(pred_values , y_smotekmeans_test_fold)\n",
        "    lst_accu_stratified.append(acc)  \n",
        "\n",
        "# Print the output.\n",
        "lst_accu_stratified = sum(lst_accu_stratified)/10\n",
        "print('F1 score:', format(lst_accu_stratified))"
      ],
      "metadata": {
        "colab": {
          "base_uri": "https://localhost:8080/"
        },
        "id": "Qiru0eXbE5EP",
        "outputId": "ec97432a-75e4-4f12-e6ac-3be8c7a7819b"
      },
      "execution_count": null,
      "outputs": [
        {
          "output_type": "stream",
          "name": "stdout",
          "text": [
            "F1 score: 0.9389869683079372\n"
          ]
        }
      ]
    },
    {
      "cell_type": "code",
      "source": [
        "#Accuracy(XGBoost)\n",
        "skf = StratifiedKFold(n_splits=10, shuffle=True, random_state=1)\n",
        "lst_accu_stratified = []\n",
        "\n",
        "  \n",
        "for train_index, test_index in skf.split(X_smotekmeans, y_smotekmeans):\n",
        "    x_train_fold, x_test_fold = X_smotekmeans[train_index], X_smotekmeans[test_index]\n",
        "    y_smotekmeans_train_fold, y_smotekmeans_test_fold = y_smotekmeans[train_index], y_smotekmeans[test_index]\n",
        "    xgb.fit(x_train_fold, y_smotekmeans_train_fold)\n",
        "    lst_accu_stratified.append(xgb.score(x_test_fold, y_smotekmeans_test_fold))\n",
        "\n",
        "\n",
        "# Print the output.\n",
        "print('Cross validation accuracy:', lst_accu_stratified)\n",
        "print('\\nMaximum Accuracy That can be obtained from this model is:',\n",
        "      max(lst_accu_stratified)*100, '%')\n",
        "print('\\nMinimum Accuracy:',\n",
        "      min(lst_accu_stratified)*100, '%')\n",
        "print('\\nOverall Accuracy:',\n",
        "      mean(lst_accu_stratified)*100, '%')\n",
        "print('\\nStandard Deviation is:', stdev(lst_accu_stratified))"
      ],
      "metadata": {
        "colab": {
          "base_uri": "https://localhost:8080/"
        },
        "id": "MSSxzdgzFOUU",
        "outputId": "cd8965f2-f7c7-4688-e932-7c4804bf8c6b"
      },
      "execution_count": null,
      "outputs": [
        {
          "output_type": "stream",
          "name": "stdout",
          "text": [
            "Cross validation accuracy: [0.8497277676950998, 0.8562613430127042, 0.8464052287581699, 0.8533042846768337, 0.8529411764705882, 0.8522149600580973, 0.8485838779956427, 0.8623819898329702, 0.8543936092955701, 0.8583877995642701]\n",
            "\n",
            "Maximum Accuracy That can be obtained from this model is: 86.23819898329702 %\n",
            "\n",
            "Minimum Accuracy: 84.640522875817 %\n",
            "\n",
            "Overall Accuracy: 85.34602037359946 %\n",
            "\n",
            "Standard Deviation is: 0.0047366623308554645\n"
          ]
        }
      ]
    },
    {
      "cell_type": "code",
      "source": [
        "#F1_score(XGBoost)\n",
        "skf = StratifiedKFold(n_splits=10, shuffle=True, random_state=1)\n",
        "lst_accu_stratified = []\n",
        "\n",
        "  \n",
        "for train_index, test_index in skf.split(X_smotekmeans, y_smotekmeans):\n",
        "    x_train_fold, x_test_fold = X_smotekmeans[train_index], X_smotekmeans[test_index]\n",
        "    y_smotekmeans_train_fold, y_smotekmeans_test_fold = y_smotekmeans[train_index], y_smotekmeans[test_index]\n",
        "    xgb.fit(x_train_fold, y_smotekmeans_train_fold)\n",
        "    pred_values = xgb.predict(x_test_fold)\n",
        "    acc = f1_score(pred_values , y_smotekmeans_test_fold)\n",
        "    lst_accu_stratified.append(acc)  \n",
        "\n",
        "# Print the output.\n",
        "lst_accu_stratified = sum(lst_accu_stratified)/10\n",
        "print('F1 score:', format(lst_accu_stratified))"
      ],
      "metadata": {
        "colab": {
          "base_uri": "https://localhost:8080/"
        },
        "id": "T4Q1lz-YFR5r",
        "outputId": "952e6d17-21cd-4e44-9cd1-cb687321948e"
      },
      "execution_count": null,
      "outputs": [
        {
          "output_type": "stream",
          "name": "stdout",
          "text": [
            "F1 score: 0.8835018880263746\n"
          ]
        }
      ]
    },
    {
      "cell_type": "code",
      "source": [
        "#Accuracy(AdaBoost)\n",
        "skf = StratifiedKFold(n_splits=10, shuffle=True, random_state=1)\n",
        "lst_accu_stratified = []\n",
        "\n",
        "  \n",
        "for train_index, test_index in skf.split(X_smotekmeans, y_smotekmeans):\n",
        "    x_train_fold, x_test_fold = X_smotekmeans[train_index], X_smotekmeans[test_index]\n",
        "    y_smotekmeans_train_fold, y_smotekmeans_test_fold = y_smotekmeans[train_index], y_smotekmeans[test_index]\n",
        "    adb.fit(x_train_fold, y_smotekmeans_train_fold)\n",
        "    lst_accu_stratified.append(adb.score(x_test_fold, y_smotekmeans_test_fold))\n",
        "\n",
        "\n",
        "# Print the output.\n",
        "print('Cross validation accuracy:', lst_accu_stratified)\n",
        "print('\\nMaximum Accuracy That can be obtained from this model is:',\n",
        "      max(lst_accu_stratified)*100, '%')\n",
        "print('\\nMinimum Accuracy:',\n",
        "      min(lst_accu_stratified)*100, '%')\n",
        "print('\\nOverall Accuracy:',\n",
        "      mean(lst_accu_stratified)*100, '%')\n",
        "print('\\nStandard Deviation is:', stdev(lst_accu_stratified))"
      ],
      "metadata": {
        "colab": {
          "base_uri": "https://localhost:8080/"
        },
        "id": "pk82gPZFFVQ8",
        "outputId": "8b9059af-6842-47ec-bbd8-a257ae654e9c"
      },
      "execution_count": null,
      "outputs": [
        {
          "output_type": "stream",
          "name": "stdout",
          "text": [
            "Cross validation accuracy: [0.8119782214156079, 0.821415607985481, 0.8162672476397966, 0.836238198983297, 0.8177196804647785, 0.8246187363834423, 0.8220769789397241, 0.8278867102396514, 0.8300653594771242, 0.8278867102396514]\n",
            "\n",
            "Maximum Accuracy That can be obtained from this model is: 83.6238198983297 %\n",
            "\n",
            "Minimum Accuracy: 81.19782214156079 %\n",
            "\n",
            "Overall Accuracy: 82.36153451768554 %\n",
            "\n",
            "Standard Deviation is: 0.007225083615370705\n"
          ]
        }
      ]
    },
    {
      "cell_type": "code",
      "source": [
        "#F1_score(AdaBoost)\n",
        "skf = StratifiedKFold(n_splits=10, shuffle=True, random_state=1)\n",
        "lst_accu_stratified = []\n",
        "\n",
        "  \n",
        "for train_index, test_index in skf.split(X_smotekmeans, y_smotekmeans):\n",
        "    x_train_fold, x_test_fold = X_smotekmeans[train_index], X_smotekmeans[test_index]\n",
        "    y_smotekmeans_train_fold, y_smotekmeans_test_fold = y_smotekmeans[train_index], y_smotekmeans[test_index]\n",
        "    adb.fit(x_train_fold, y_smotekmeans_train_fold)\n",
        "    pred_values = adb.predict(x_test_fold)\n",
        "    acc = f1_score(pred_values , y_smotekmeans_test_fold)\n",
        "    lst_accu_stratified.append(acc)  \n",
        "\n",
        "# Print the output.\n",
        "lst_accu_stratified = sum(lst_accu_stratified)/10\n",
        "print('F1 score:', format(lst_accu_stratified))"
      ],
      "metadata": {
        "colab": {
          "base_uri": "https://localhost:8080/"
        },
        "id": "ucD8QVAAFZ9f",
        "outputId": "a725e8a3-10c5-4dc0-98e5-5432151c459b"
      },
      "execution_count": null,
      "outputs": [
        {
          "output_type": "stream",
          "name": "stdout",
          "text": [
            "F1 score: 0.8627705612470654\n"
          ]
        }
      ]
    },
    {
      "cell_type": "code",
      "source": [],
      "metadata": {
        "id": "6moA7fGbIZDV"
      },
      "execution_count": null,
      "outputs": []
    }
  ]
}