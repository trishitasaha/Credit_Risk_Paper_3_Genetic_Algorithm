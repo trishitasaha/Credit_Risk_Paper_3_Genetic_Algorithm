{
  "nbformat": 4,
  "nbformat_minor": 0,
  "metadata": {
    "colab": {
      "provenance": []
    },
    "kernelspec": {
      "name": "python3",
      "display_name": "Python 3"
    },
    "language_info": {
      "name": "python"
    }
  },
  "cells": [
    {
      "cell_type": "code",
      "execution_count": null,
      "metadata": {
        "id": "Bbcwb3UEaNqZ"
      },
      "outputs": [],
      "source": [
        "import matplotlib.pylab as plt\n",
        "from scipy import interp\n",
        "from sklearn.ensemble import RandomForestClassifier\n",
        "from sklearn.metrics import roc_curve,auc\n",
        "from sklearn.model_selection import StratifiedKFold\n",
        "import matplotlib.patches as patches\n",
        "\n",
        "# Input data files are available in the \"../input/\" directory.\n",
        "# For example, running this (by clicking run or pressing Shift+Enter) will list the files in the input directory\n",
        "from statistics import mean, stdev\n",
        "from sklearn import preprocessing\n",
        "from sklearn.model_selection import StratifiedKFold\n",
        "from sklearn import linear_model\n",
        "from sklearn import datasets\n",
        "\n",
        "import numpy as np\n",
        "import pandas as pd\n",
        "from sklearn.linear_model import LogisticRegression\n",
        "from sklearn.model_selection import train_test_split, GridSearchCV, StratifiedKFold\n",
        "from sklearn.preprocessing import MinMaxScaler\n",
        "from imblearn.over_sampling import SMOTE\n",
        "from imblearn.pipeline import Pipeline as imbpipeline\n",
        "from sklearn.pipeline import Pipeline\n",
        "from sklearn.preprocessing import LabelEncoder\n",
        "from sklearn.model_selection import train_test_split\n",
        "from sklearn.linear_model import LogisticRegression\n",
        "from sklearn.metrics import accuracy_score\n",
        "\n",
        "from scipy import interpolate\n",
        "import matplotlib.pyplot as plt\n",
        "from sklearn.metrics import f1_score\n",
        "from sklearn.metrics import accuracy_score\n",
        "import matplotlib.pyplot as plt\n",
        "from sklearn.metrics import precision_recall_curve\n",
        "from sklearn.metrics import confusion_matrix\n",
        "from sklearn.metrics import roc_curve\n",
        "from sklearn.metrics import f1_score\n",
        "from sklearn.metrics import auc\n",
        "%matplotlib inline\n",
        "from sklearn.metrics import matthews_corrcoef\n",
        "# Define pipelines\n",
        "from sklearn.pipeline import Pipeline\n",
        "from sklearn.preprocessing import MinMaxScaler, Normalizer\n",
        "from keras.layers import Dense\n",
        "from keras.models import Sequential\n",
        "import matplotlib.pyplot as plt\n",
        "\n",
        "from sklearn import svm\n",
        "from sklearn.metrics import auc\n",
        "from sklearn.metrics import RocCurveDisplay\n",
        "from sklearn.model_selection import StratifiedKFold"
      ]
    },
    {
      "cell_type": "code",
      "source": [
        "df=pd.read_csv('UCI_Credit_Card.csv')\n",
        "df"
      ],
      "metadata": {
        "id": "gj7Wxz_TaQfL",
        "colab": {
          "base_uri": "https://localhost:8080/",
          "height": 488
        },
        "outputId": "a365748b-c14c-454d-eb3f-2cdecabbcd00"
      },
      "execution_count": null,
      "outputs": [
        {
          "output_type": "execute_result",
          "data": {
            "text/plain": [
              "          ID  LIMIT_BAL  SEX  EDUCATION  MARRIAGE  AGE  PAY_0  PAY_2  PAY_3  \\\n",
              "0          1    20000.0    2          2         1   24      2      2     -1   \n",
              "1          2   120000.0    2          2         2   26     -1      2      0   \n",
              "2          3    90000.0    2          2         2   34      0      0      0   \n",
              "3          4    50000.0    2          2         1   37      0      0      0   \n",
              "4          5    50000.0    1          2         1   57     -1      0     -1   \n",
              "...      ...        ...  ...        ...       ...  ...    ...    ...    ...   \n",
              "29995  29996   220000.0    1          3         1   39      0      0      0   \n",
              "29996  29997   150000.0    1          3         2   43     -1     -1     -1   \n",
              "29997  29998    30000.0    1          2         2   37      4      3      2   \n",
              "29998  29999    80000.0    1          3         1   41      1     -1      0   \n",
              "29999  30000    50000.0    1          2         1   46      0      0      0   \n",
              "\n",
              "       PAY_4  ...  BILL_AMT4  BILL_AMT5  BILL_AMT6  PAY_AMT1  PAY_AMT2  \\\n",
              "0         -1  ...        0.0        0.0        0.0       0.0     689.0   \n",
              "1          0  ...     3272.0     3455.0     3261.0       0.0    1000.0   \n",
              "2          0  ...    14331.0    14948.0    15549.0    1518.0    1500.0   \n",
              "3          0  ...    28314.0    28959.0    29547.0    2000.0    2019.0   \n",
              "4          0  ...    20940.0    19146.0    19131.0    2000.0   36681.0   \n",
              "...      ...  ...        ...        ...        ...       ...       ...   \n",
              "29995      0  ...    88004.0    31237.0    15980.0    8500.0   20000.0   \n",
              "29996     -1  ...     8979.0     5190.0        0.0    1837.0    3526.0   \n",
              "29997     -1  ...    20878.0    20582.0    19357.0       0.0       0.0   \n",
              "29998      0  ...    52774.0    11855.0    48944.0   85900.0    3409.0   \n",
              "29999      0  ...    36535.0    32428.0    15313.0    2078.0    1800.0   \n",
              "\n",
              "       PAY_AMT3  PAY_AMT4  PAY_AMT5  PAY_AMT6  default.payment.next.month  \n",
              "0           0.0       0.0       0.0       0.0                           1  \n",
              "1        1000.0    1000.0       0.0    2000.0                           1  \n",
              "2        1000.0    1000.0    1000.0    5000.0                           0  \n",
              "3        1200.0    1100.0    1069.0    1000.0                           0  \n",
              "4       10000.0    9000.0     689.0     679.0                           0  \n",
              "...         ...       ...       ...       ...                         ...  \n",
              "29995    5003.0    3047.0    5000.0    1000.0                           0  \n",
              "29996    8998.0     129.0       0.0       0.0                           0  \n",
              "29997   22000.0    4200.0    2000.0    3100.0                           1  \n",
              "29998    1178.0    1926.0   52964.0    1804.0                           1  \n",
              "29999    1430.0    1000.0    1000.0    1000.0                           1  \n",
              "\n",
              "[30000 rows x 25 columns]"
            ],
            "text/html": [
              "\n",
              "  <div id=\"df-111b48ee-1422-4a67-9ca7-81f557afea9a\">\n",
              "    <div class=\"colab-df-container\">\n",
              "      <div>\n",
              "<style scoped>\n",
              "    .dataframe tbody tr th:only-of-type {\n",
              "        vertical-align: middle;\n",
              "    }\n",
              "\n",
              "    .dataframe tbody tr th {\n",
              "        vertical-align: top;\n",
              "    }\n",
              "\n",
              "    .dataframe thead th {\n",
              "        text-align: right;\n",
              "    }\n",
              "</style>\n",
              "<table border=\"1\" class=\"dataframe\">\n",
              "  <thead>\n",
              "    <tr style=\"text-align: right;\">\n",
              "      <th></th>\n",
              "      <th>ID</th>\n",
              "      <th>LIMIT_BAL</th>\n",
              "      <th>SEX</th>\n",
              "      <th>EDUCATION</th>\n",
              "      <th>MARRIAGE</th>\n",
              "      <th>AGE</th>\n",
              "      <th>PAY_0</th>\n",
              "      <th>PAY_2</th>\n",
              "      <th>PAY_3</th>\n",
              "      <th>PAY_4</th>\n",
              "      <th>...</th>\n",
              "      <th>BILL_AMT4</th>\n",
              "      <th>BILL_AMT5</th>\n",
              "      <th>BILL_AMT6</th>\n",
              "      <th>PAY_AMT1</th>\n",
              "      <th>PAY_AMT2</th>\n",
              "      <th>PAY_AMT3</th>\n",
              "      <th>PAY_AMT4</th>\n",
              "      <th>PAY_AMT5</th>\n",
              "      <th>PAY_AMT6</th>\n",
              "      <th>default.payment.next.month</th>\n",
              "    </tr>\n",
              "  </thead>\n",
              "  <tbody>\n",
              "    <tr>\n",
              "      <th>0</th>\n",
              "      <td>1</td>\n",
              "      <td>20000.0</td>\n",
              "      <td>2</td>\n",
              "      <td>2</td>\n",
              "      <td>1</td>\n",
              "      <td>24</td>\n",
              "      <td>2</td>\n",
              "      <td>2</td>\n",
              "      <td>-1</td>\n",
              "      <td>-1</td>\n",
              "      <td>...</td>\n",
              "      <td>0.0</td>\n",
              "      <td>0.0</td>\n",
              "      <td>0.0</td>\n",
              "      <td>0.0</td>\n",
              "      <td>689.0</td>\n",
              "      <td>0.0</td>\n",
              "      <td>0.0</td>\n",
              "      <td>0.0</td>\n",
              "      <td>0.0</td>\n",
              "      <td>1</td>\n",
              "    </tr>\n",
              "    <tr>\n",
              "      <th>1</th>\n",
              "      <td>2</td>\n",
              "      <td>120000.0</td>\n",
              "      <td>2</td>\n",
              "      <td>2</td>\n",
              "      <td>2</td>\n",
              "      <td>26</td>\n",
              "      <td>-1</td>\n",
              "      <td>2</td>\n",
              "      <td>0</td>\n",
              "      <td>0</td>\n",
              "      <td>...</td>\n",
              "      <td>3272.0</td>\n",
              "      <td>3455.0</td>\n",
              "      <td>3261.0</td>\n",
              "      <td>0.0</td>\n",
              "      <td>1000.0</td>\n",
              "      <td>1000.0</td>\n",
              "      <td>1000.0</td>\n",
              "      <td>0.0</td>\n",
              "      <td>2000.0</td>\n",
              "      <td>1</td>\n",
              "    </tr>\n",
              "    <tr>\n",
              "      <th>2</th>\n",
              "      <td>3</td>\n",
              "      <td>90000.0</td>\n",
              "      <td>2</td>\n",
              "      <td>2</td>\n",
              "      <td>2</td>\n",
              "      <td>34</td>\n",
              "      <td>0</td>\n",
              "      <td>0</td>\n",
              "      <td>0</td>\n",
              "      <td>0</td>\n",
              "      <td>...</td>\n",
              "      <td>14331.0</td>\n",
              "      <td>14948.0</td>\n",
              "      <td>15549.0</td>\n",
              "      <td>1518.0</td>\n",
              "      <td>1500.0</td>\n",
              "      <td>1000.0</td>\n",
              "      <td>1000.0</td>\n",
              "      <td>1000.0</td>\n",
              "      <td>5000.0</td>\n",
              "      <td>0</td>\n",
              "    </tr>\n",
              "    <tr>\n",
              "      <th>3</th>\n",
              "      <td>4</td>\n",
              "      <td>50000.0</td>\n",
              "      <td>2</td>\n",
              "      <td>2</td>\n",
              "      <td>1</td>\n",
              "      <td>37</td>\n",
              "      <td>0</td>\n",
              "      <td>0</td>\n",
              "      <td>0</td>\n",
              "      <td>0</td>\n",
              "      <td>...</td>\n",
              "      <td>28314.0</td>\n",
              "      <td>28959.0</td>\n",
              "      <td>29547.0</td>\n",
              "      <td>2000.0</td>\n",
              "      <td>2019.0</td>\n",
              "      <td>1200.0</td>\n",
              "      <td>1100.0</td>\n",
              "      <td>1069.0</td>\n",
              "      <td>1000.0</td>\n",
              "      <td>0</td>\n",
              "    </tr>\n",
              "    <tr>\n",
              "      <th>4</th>\n",
              "      <td>5</td>\n",
              "      <td>50000.0</td>\n",
              "      <td>1</td>\n",
              "      <td>2</td>\n",
              "      <td>1</td>\n",
              "      <td>57</td>\n",
              "      <td>-1</td>\n",
              "      <td>0</td>\n",
              "      <td>-1</td>\n",
              "      <td>0</td>\n",
              "      <td>...</td>\n",
              "      <td>20940.0</td>\n",
              "      <td>19146.0</td>\n",
              "      <td>19131.0</td>\n",
              "      <td>2000.0</td>\n",
              "      <td>36681.0</td>\n",
              "      <td>10000.0</td>\n",
              "      <td>9000.0</td>\n",
              "      <td>689.0</td>\n",
              "      <td>679.0</td>\n",
              "      <td>0</td>\n",
              "    </tr>\n",
              "    <tr>\n",
              "      <th>...</th>\n",
              "      <td>...</td>\n",
              "      <td>...</td>\n",
              "      <td>...</td>\n",
              "      <td>...</td>\n",
              "      <td>...</td>\n",
              "      <td>...</td>\n",
              "      <td>...</td>\n",
              "      <td>...</td>\n",
              "      <td>...</td>\n",
              "      <td>...</td>\n",
              "      <td>...</td>\n",
              "      <td>...</td>\n",
              "      <td>...</td>\n",
              "      <td>...</td>\n",
              "      <td>...</td>\n",
              "      <td>...</td>\n",
              "      <td>...</td>\n",
              "      <td>...</td>\n",
              "      <td>...</td>\n",
              "      <td>...</td>\n",
              "      <td>...</td>\n",
              "    </tr>\n",
              "    <tr>\n",
              "      <th>29995</th>\n",
              "      <td>29996</td>\n",
              "      <td>220000.0</td>\n",
              "      <td>1</td>\n",
              "      <td>3</td>\n",
              "      <td>1</td>\n",
              "      <td>39</td>\n",
              "      <td>0</td>\n",
              "      <td>0</td>\n",
              "      <td>0</td>\n",
              "      <td>0</td>\n",
              "      <td>...</td>\n",
              "      <td>88004.0</td>\n",
              "      <td>31237.0</td>\n",
              "      <td>15980.0</td>\n",
              "      <td>8500.0</td>\n",
              "      <td>20000.0</td>\n",
              "      <td>5003.0</td>\n",
              "      <td>3047.0</td>\n",
              "      <td>5000.0</td>\n",
              "      <td>1000.0</td>\n",
              "      <td>0</td>\n",
              "    </tr>\n",
              "    <tr>\n",
              "      <th>29996</th>\n",
              "      <td>29997</td>\n",
              "      <td>150000.0</td>\n",
              "      <td>1</td>\n",
              "      <td>3</td>\n",
              "      <td>2</td>\n",
              "      <td>43</td>\n",
              "      <td>-1</td>\n",
              "      <td>-1</td>\n",
              "      <td>-1</td>\n",
              "      <td>-1</td>\n",
              "      <td>...</td>\n",
              "      <td>8979.0</td>\n",
              "      <td>5190.0</td>\n",
              "      <td>0.0</td>\n",
              "      <td>1837.0</td>\n",
              "      <td>3526.0</td>\n",
              "      <td>8998.0</td>\n",
              "      <td>129.0</td>\n",
              "      <td>0.0</td>\n",
              "      <td>0.0</td>\n",
              "      <td>0</td>\n",
              "    </tr>\n",
              "    <tr>\n",
              "      <th>29997</th>\n",
              "      <td>29998</td>\n",
              "      <td>30000.0</td>\n",
              "      <td>1</td>\n",
              "      <td>2</td>\n",
              "      <td>2</td>\n",
              "      <td>37</td>\n",
              "      <td>4</td>\n",
              "      <td>3</td>\n",
              "      <td>2</td>\n",
              "      <td>-1</td>\n",
              "      <td>...</td>\n",
              "      <td>20878.0</td>\n",
              "      <td>20582.0</td>\n",
              "      <td>19357.0</td>\n",
              "      <td>0.0</td>\n",
              "      <td>0.0</td>\n",
              "      <td>22000.0</td>\n",
              "      <td>4200.0</td>\n",
              "      <td>2000.0</td>\n",
              "      <td>3100.0</td>\n",
              "      <td>1</td>\n",
              "    </tr>\n",
              "    <tr>\n",
              "      <th>29998</th>\n",
              "      <td>29999</td>\n",
              "      <td>80000.0</td>\n",
              "      <td>1</td>\n",
              "      <td>3</td>\n",
              "      <td>1</td>\n",
              "      <td>41</td>\n",
              "      <td>1</td>\n",
              "      <td>-1</td>\n",
              "      <td>0</td>\n",
              "      <td>0</td>\n",
              "      <td>...</td>\n",
              "      <td>52774.0</td>\n",
              "      <td>11855.0</td>\n",
              "      <td>48944.0</td>\n",
              "      <td>85900.0</td>\n",
              "      <td>3409.0</td>\n",
              "      <td>1178.0</td>\n",
              "      <td>1926.0</td>\n",
              "      <td>52964.0</td>\n",
              "      <td>1804.0</td>\n",
              "      <td>1</td>\n",
              "    </tr>\n",
              "    <tr>\n",
              "      <th>29999</th>\n",
              "      <td>30000</td>\n",
              "      <td>50000.0</td>\n",
              "      <td>1</td>\n",
              "      <td>2</td>\n",
              "      <td>1</td>\n",
              "      <td>46</td>\n",
              "      <td>0</td>\n",
              "      <td>0</td>\n",
              "      <td>0</td>\n",
              "      <td>0</td>\n",
              "      <td>...</td>\n",
              "      <td>36535.0</td>\n",
              "      <td>32428.0</td>\n",
              "      <td>15313.0</td>\n",
              "      <td>2078.0</td>\n",
              "      <td>1800.0</td>\n",
              "      <td>1430.0</td>\n",
              "      <td>1000.0</td>\n",
              "      <td>1000.0</td>\n",
              "      <td>1000.0</td>\n",
              "      <td>1</td>\n",
              "    </tr>\n",
              "  </tbody>\n",
              "</table>\n",
              "<p>30000 rows × 25 columns</p>\n",
              "</div>\n",
              "      <button class=\"colab-df-convert\" onclick=\"convertToInteractive('df-111b48ee-1422-4a67-9ca7-81f557afea9a')\"\n",
              "              title=\"Convert this dataframe to an interactive table.\"\n",
              "              style=\"display:none;\">\n",
              "        \n",
              "  <svg xmlns=\"http://www.w3.org/2000/svg\" height=\"24px\"viewBox=\"0 0 24 24\"\n",
              "       width=\"24px\">\n",
              "    <path d=\"M0 0h24v24H0V0z\" fill=\"none\"/>\n",
              "    <path d=\"M18.56 5.44l.94 2.06.94-2.06 2.06-.94-2.06-.94-.94-2.06-.94 2.06-2.06.94zm-11 1L8.5 8.5l.94-2.06 2.06-.94-2.06-.94L8.5 2.5l-.94 2.06-2.06.94zm10 10l.94 2.06.94-2.06 2.06-.94-2.06-.94-.94-2.06-.94 2.06-2.06.94z\"/><path d=\"M17.41 7.96l-1.37-1.37c-.4-.4-.92-.59-1.43-.59-.52 0-1.04.2-1.43.59L10.3 9.45l-7.72 7.72c-.78.78-.78 2.05 0 2.83L4 21.41c.39.39.9.59 1.41.59.51 0 1.02-.2 1.41-.59l7.78-7.78 2.81-2.81c.8-.78.8-2.07 0-2.86zM5.41 20L4 18.59l7.72-7.72 1.47 1.35L5.41 20z\"/>\n",
              "  </svg>\n",
              "      </button>\n",
              "      \n",
              "  <style>\n",
              "    .colab-df-container {\n",
              "      display:flex;\n",
              "      flex-wrap:wrap;\n",
              "      gap: 12px;\n",
              "    }\n",
              "\n",
              "    .colab-df-convert {\n",
              "      background-color: #E8F0FE;\n",
              "      border: none;\n",
              "      border-radius: 50%;\n",
              "      cursor: pointer;\n",
              "      display: none;\n",
              "      fill: #1967D2;\n",
              "      height: 32px;\n",
              "      padding: 0 0 0 0;\n",
              "      width: 32px;\n",
              "    }\n",
              "\n",
              "    .colab-df-convert:hover {\n",
              "      background-color: #E2EBFA;\n",
              "      box-shadow: 0px 1px 2px rgba(60, 64, 67, 0.3), 0px 1px 3px 1px rgba(60, 64, 67, 0.15);\n",
              "      fill: #174EA6;\n",
              "    }\n",
              "\n",
              "    [theme=dark] .colab-df-convert {\n",
              "      background-color: #3B4455;\n",
              "      fill: #D2E3FC;\n",
              "    }\n",
              "\n",
              "    [theme=dark] .colab-df-convert:hover {\n",
              "      background-color: #434B5C;\n",
              "      box-shadow: 0px 1px 3px 1px rgba(0, 0, 0, 0.15);\n",
              "      filter: drop-shadow(0px 1px 2px rgba(0, 0, 0, 0.3));\n",
              "      fill: #FFFFFF;\n",
              "    }\n",
              "  </style>\n",
              "\n",
              "      <script>\n",
              "        const buttonEl =\n",
              "          document.querySelector('#df-111b48ee-1422-4a67-9ca7-81f557afea9a button.colab-df-convert');\n",
              "        buttonEl.style.display =\n",
              "          google.colab.kernel.accessAllowed ? 'block' : 'none';\n",
              "\n",
              "        async function convertToInteractive(key) {\n",
              "          const element = document.querySelector('#df-111b48ee-1422-4a67-9ca7-81f557afea9a');\n",
              "          const dataTable =\n",
              "            await google.colab.kernel.invokeFunction('convertToInteractive',\n",
              "                                                     [key], {});\n",
              "          if (!dataTable) return;\n",
              "\n",
              "          const docLinkHtml = 'Like what you see? Visit the ' +\n",
              "            '<a target=\"_blank\" href=https://colab.research.google.com/notebooks/data_table.ipynb>data table notebook</a>'\n",
              "            + ' to learn more about interactive tables.';\n",
              "          element.innerHTML = '';\n",
              "          dataTable['output_type'] = 'display_data';\n",
              "          await google.colab.output.renderOutput(dataTable, element);\n",
              "          const docLink = document.createElement('div');\n",
              "          docLink.innerHTML = docLinkHtml;\n",
              "          element.appendChild(docLink);\n",
              "        }\n",
              "      </script>\n",
              "    </div>\n",
              "  </div>\n",
              "  "
            ]
          },
          "metadata": {},
          "execution_count": 2
        }
      ]
    },
    {
      "cell_type": "code",
      "source": [
        "df.drop(['SEX', 'EDUCATION', 'MARRIAGE', 'AGE', 'PAY_2', 'PAY_3', 'PAY_4', 'PAY_5', 'PAY_6', 'BILL_AMT3', 'PAY_AMT1', 'PAY_AMT3', 'PAY_AMT4', 'PAY_AMT5'],axis=1, inplace=True)"
      ],
      "metadata": {
        "id": "g364gS82aTSZ"
      },
      "execution_count": null,
      "outputs": []
    },
    {
      "cell_type": "code",
      "source": [
        "X = df.drop('default.payment.next.month',axis=1).values\n",
        "y = df['default.payment.next.month'].values"
      ],
      "metadata": {
        "id": "rIhmdYSxbK1F"
      },
      "execution_count": null,
      "outputs": []
    },
    {
      "cell_type": "code",
      "source": [
        "from imblearn.combine import SMOTEENN\n",
        "smoteenn = SMOTEENN()\n",
        "X_smoteenn, y_smoteenn = smoteenn.fit_resample(X, y)"
      ],
      "metadata": {
        "id": "8-piZ-GKbNxt"
      },
      "execution_count": null,
      "outputs": []
    },
    {
      "cell_type": "code",
      "source": [
        "from collections import Counter\n",
        "print(\"Before SMOTE :\" , Counter(y))\n",
        "print(\"After SMOTE :\" , Counter(y_smoteenn))"
      ],
      "metadata": {
        "id": "1nw5tMJWbQnf",
        "colab": {
          "base_uri": "https://localhost:8080/"
        },
        "outputId": "8c6dcd0f-e59d-4105-ff2a-fe1176fe457a"
      },
      "execution_count": null,
      "outputs": [
        {
          "output_type": "stream",
          "name": "stdout",
          "text": [
            "Before SMOTE : Counter({0: 23364, 1: 6636})\n",
            "After SMOTE : Counter({1: 16997, 0: 9966})\n"
          ]
        }
      ]
    },
    {
      "cell_type": "code",
      "source": [
        "# Single classifier based models\n",
        "from sklearn.naive_bayes import GaussianNB\n",
        "nb = GaussianNB()\n",
        "from sklearn.tree import DecisionTreeClassifier # Import Decision Tree Classifier\n",
        "dt = DecisionTreeClassifier()\n",
        "from sklearn.linear_model import LogisticRegression\n",
        "lr = LogisticRegression(random_state = 0)\n",
        "from sklearn.neighbors import KNeighborsClassifier\n",
        "knn = KNeighborsClassifier(n_neighbors=7)\n",
        "\n",
        "# Ensemble Modles\n",
        "from sklearn.ensemble import RandomForestClassifier\n",
        "# creating a RF classifier\n",
        "rf = RandomForestClassifier(n_estimators = 100) \n",
        "from sklearn.ensemble import ExtraTreesClassifier\n",
        "extr = ExtraTreesClassifier()\n",
        "import xgboost as xgb\n",
        "xgb = xgb.XGBClassifier()\n",
        "from sklearn.ensemble import AdaBoostClassifier\n",
        "adb = AdaBoostClassifier()"
      ],
      "metadata": {
        "id": "h6itjEeqbTHb"
      },
      "execution_count": null,
      "outputs": []
    },
    {
      "cell_type": "code",
      "source": [
        "#Accuracy(Naive Bayes)\n",
        "skf = StratifiedKFold(n_splits=10, shuffle=True, random_state=1)\n",
        "lst_accu_stratified = []  \n",
        "for train_index, test_index in skf.split(X_smoteenn, y_smoteenn):\n",
        "    x_train_fold, x_test_fold = X_smoteenn[train_index], X_smoteenn[test_index]\n",
        "    y_smoteenn_train_fold, y_smoteenn_test_fold = y_smoteenn[train_index], y_smoteenn[test_index]\n",
        "    nb.fit(x_train_fold, y_smoteenn_train_fold)\n",
        "    lst_accu_stratified.append(nb.score(x_test_fold, y_smoteenn_test_fold))\n",
        "# Print the output.\n",
        "print('Cross validation accuracy:', lst_accu_stratified)\n",
        "print('\\nMaximum Accuracy That can be obtained from this model is:',max(lst_accu_stratified)*100, '%')\n",
        "print('\\nMinimum Accuracy:',min(lst_accu_stratified)*100, '%')\n",
        "print('\\nOverall Accuracy:',mean(lst_accu_stratified)*100, '%')\n",
        "print('\\nStandard Deviation is:', stdev(lst_accu_stratified))"
      ],
      "metadata": {
        "id": "JOWAHRalbXFp",
        "colab": {
          "base_uri": "https://localhost:8080/"
        },
        "outputId": "ca0a6dcf-f0c0-40bd-b9d0-3dca882ede6c"
      },
      "execution_count": null,
      "outputs": [
        {
          "output_type": "stream",
          "name": "stdout",
          "text": [
            "Cross validation accuracy: [0.6800148312940304, 0.6915090841675936, 0.675194660734149, 0.6828635014836796, 0.6810089020771514, 0.6824925816023739, 0.6813798219584569, 0.6728486646884273, 0.6791543026706232, 0.68026706231454]\n",
            "\n",
            "Maximum Accuracy That can be obtained from this model is: 69.15090841675936 %\n",
            "\n",
            "Minimum Accuracy: 67.28486646884274 %\n",
            "\n",
            "Overall Accuracy: 68.06733412991025 %\n",
            "\n",
            "Standard Deviation is: 0.004947268130261973\n"
          ]
        }
      ]
    },
    {
      "cell_type": "code",
      "source": [
        "#F1_score(Naive Bayes)\n",
        "skf = StratifiedKFold(n_splits=10, shuffle=True, random_state=1)\n",
        "lst_accu_stratified = [] \n",
        "for train_index, test_index in skf.split(X_smoteenn, y_smoteenn):\n",
        "    x_train_fold, x_test_fold = X_smoteenn[train_index], X_smoteenn[test_index]\n",
        "    y_smoteenn_train_fold, y_smoteenn_test_fold = y_smoteenn[train_index], y_smoteenn[test_index]\n",
        "    nb.fit(x_train_fold, y_smoteenn_train_fold)\n",
        "    pred_values = nb.predict(x_test_fold)\n",
        "    acc = f1_score(pred_values , y_smoteenn_test_fold)\n",
        "    lst_accu_stratified.append(acc)  \n",
        "# Print the output.\n",
        "lst_accu_stratified = sum(lst_accu_stratified)/10\n",
        "print('F1 score:', format(lst_accu_stratified))"
      ],
      "metadata": {
        "id": "xY_387y5bbtH",
        "colab": {
          "base_uri": "https://localhost:8080/"
        },
        "outputId": "56da59ec-d9ec-4374-a391-b3d795a44085"
      },
      "execution_count": null,
      "outputs": [
        {
          "output_type": "stream",
          "name": "stdout",
          "text": [
            "F1 score: 0.7929605415846395\n"
          ]
        }
      ]
    },
    {
      "cell_type": "code",
      "source": [
        "#Accuracy(Decision Tree)\n",
        "skf = StratifiedKFold(n_splits=10, shuffle=True, random_state=1)\n",
        "lst_accu_stratified = [] \n",
        "for train_index, test_index in skf.split(X_smoteenn, y_smoteenn):\n",
        "    x_train_fold, x_test_fold = X_smoteenn[train_index], X_smoteenn[test_index]\n",
        "    y_smoteenn_train_fold, y_smoteenn_test_fold = y_smoteenn[train_index], y_smoteenn[test_index]\n",
        "    dt.fit(x_train_fold, y_smoteenn_train_fold)\n",
        "    lst_accu_stratified.append(dt.score(x_test_fold, y_smoteenn_test_fold))\n",
        "# Print the output.\n",
        "print('Cross validation accuracy:', lst_accu_stratified)\n",
        "print('\\nMaximum Accuracy That can be obtained from this model is:', max(lst_accu_stratified)*100, '%')\n",
        "print('\\nMinimum Accuracy:', min(lst_accu_stratified)*100, '%')\n",
        "print('\\nOverall Accuracy:', mean(lst_accu_stratified)*100, '%')\n",
        "print('\\nStandard Deviation is:', stdev(lst_accu_stratified))"
      ],
      "metadata": {
        "id": "WK1KmxR9bgGy",
        "colab": {
          "base_uri": "https://localhost:8080/"
        },
        "outputId": "dedfc683-7399-4ca2-bd8e-ad92f66e893a"
      },
      "execution_count": null,
      "outputs": [
        {
          "output_type": "stream",
          "name": "stdout",
          "text": [
            "Cross validation accuracy: [0.8639228772710419, 0.8717093066370041, 0.8665183537263627, 0.8571958456973294, 0.8553412462908012, 0.8675816023738873, 0.857566765578635, 0.8583086053412463, 0.8653560830860534, 0.8583086053412463]\n",
            "\n",
            "Maximum Accuracy That can be obtained from this model is: 87.1709306637004 %\n",
            "\n",
            "Minimum Accuracy: 85.53412462908013 %\n",
            "\n",
            "Overall Accuracy: 86.21809291343607 %\n",
            "\n",
            "Standard Deviation is: 0.005525688433763317\n"
          ]
        }
      ]
    },
    {
      "cell_type": "code",
      "source": [
        "#F1_score(Decision Tree)\n",
        "skf = StratifiedKFold(n_splits=10, shuffle=True, random_state=1)\n",
        "lst_accu_stratified = []  \n",
        "for train_index, test_index in skf.split(X_smoteenn, y_smoteenn):\n",
        "    x_train_fold, x_test_fold = X_smoteenn[train_index], X_smoteenn[test_index]\n",
        "    y_smoteenn_train_fold, y_smoteenn_test_fold = y_smoteenn[train_index], y_smoteenn[test_index]\n",
        "    dt.fit(x_train_fold, y_smoteenn_train_fold)\n",
        "    pred_values = dt.predict(x_test_fold)\n",
        "    acc = f1_score(pred_values , y_smoteenn_test_fold)\n",
        "    lst_accu_stratified.append(acc)  \n",
        "# Print the output.\n",
        "lst_accu_stratified = sum(lst_accu_stratified)/10\n",
        "print('F1 score:', format(lst_accu_stratified))"
      ],
      "metadata": {
        "id": "o7-bF5kQbkJG",
        "colab": {
          "base_uri": "https://localhost:8080/"
        },
        "outputId": "86d15843-227a-431e-deaa-e3e1f3ec07fb"
      },
      "execution_count": null,
      "outputs": [
        {
          "output_type": "stream",
          "name": "stdout",
          "text": [
            "F1 score: 0.8910133215248865\n"
          ]
        }
      ]
    },
    {
      "cell_type": "code",
      "source": [
        "#Accuracy(K Nearest Neighbor)\n",
        "skf = StratifiedKFold(n_splits=10, shuffle=True, random_state=1)\n",
        "lst_accu_stratified = []  \n",
        "for train_index, test_index in skf.split(X_smoteenn, y_smoteenn):\n",
        "    x_train_fold, x_test_fold = X_smoteenn[train_index], X_smoteenn[test_index]\n",
        "    y_smoteenn_train_fold, y_smoteenn_test_fold = y_smoteenn[train_index], y_smoteenn[test_index]\n",
        "    knn.fit(x_train_fold, y_smoteenn_train_fold)\n",
        "    lst_accu_stratified.append(knn.score(x_test_fold, y_smoteenn_test_fold))\n",
        "\n",
        "\n",
        "# Print the output.\n",
        "print('Cross validation accuracy:', lst_accu_stratified)\n",
        "print('\\nMaximum Accuracy That can be obtained from this model is:', max(lst_accu_stratified)*100, '%')\n",
        "print('\\nMinimum Accuracy:', min(lst_accu_stratified)*100, '%')\n",
        "print('\\nOverall Accuracy:', mean(lst_accu_stratified)*100, '%')\n",
        "print('\\nStandard Deviation is:', stdev(lst_accu_stratified))"
      ],
      "metadata": {
        "id": "VXK3gSqibnMZ",
        "colab": {
          "base_uri": "https://localhost:8080/"
        },
        "outputId": "4e74dfda-a4ed-4ede-aeb7-9462d800fb49"
      },
      "execution_count": null,
      "outputs": [
        {
          "output_type": "stream",
          "name": "stdout",
          "text": [
            "Cross validation accuracy: [0.8883945124212087, 0.8861698183166481, 0.8961809417871709, 0.8864985163204748, 0.9024480712166172, 0.8890949554896143, 0.8816765578635015, 0.8794510385756676, 0.8827893175074184, 0.8831602373887241]\n",
            "\n",
            "Maximum Accuracy That can be obtained from this model is: 90.24480712166172 %\n",
            "\n",
            "Minimum Accuracy: 87.94510385756676 %\n",
            "\n",
            "Overall Accuracy: 88.75863966887046 %\n",
            "\n",
            "Standard Deviation is: 0.007028257688972622\n"
          ]
        }
      ]
    },
    {
      "cell_type": "code",
      "source": [
        "#F1_score(K Nearest Neighbor)\n",
        "skf = StratifiedKFold(n_splits=10, shuffle=True, random_state=1)\n",
        "lst_accu_stratified = []\n",
        "\n",
        "  \n",
        "for train_index, test_index in skf.split(X_smoteenn, y_smoteenn):\n",
        "    x_train_fold, x_test_fold = X_smoteenn[train_index], X_smoteenn[test_index]\n",
        "    y_smoteenn_train_fold, y_smoteenn_test_fold = y_smoteenn[train_index], y_smoteenn[test_index]\n",
        "    knn.fit(x_train_fold, y_smoteenn_train_fold)\n",
        "    pred_values = knn.predict(x_test_fold)\n",
        "    acc = f1_score(pred_values , y_smoteenn_test_fold)\n",
        "    lst_accu_stratified.append(acc)  \n",
        "\n",
        "# Print the output.\n",
        "lst_accu_stratified = sum(lst_accu_stratified)/10\n",
        "print('F1 score:', format(lst_accu_stratified))"
      ],
      "metadata": {
        "id": "mEtgD1XTbqZC",
        "colab": {
          "base_uri": "https://localhost:8080/"
        },
        "outputId": "248fa6ce-850d-46fd-b8e2-6a57d88c2026"
      },
      "execution_count": null,
      "outputs": [
        {
          "output_type": "stream",
          "name": "stdout",
          "text": [
            "F1 score: 0.9157736846126058\n"
          ]
        }
      ]
    },
    {
      "cell_type": "code",
      "source": [
        "#Accuracy(Random Forest)\n",
        "skf = StratifiedKFold(n_splits=10, shuffle=True, random_state=1)\n",
        "lst_accu_stratified = []\n",
        "\n",
        "  \n",
        "for train_index, test_index in skf.split(X_smoteenn, y_smoteenn):\n",
        "    x_train_fold, x_test_fold = X_smoteenn[train_index], X_smoteenn[test_index]\n",
        "    y_smoteenn_train_fold, y_smoteenn_test_fold = y_smoteenn[train_index], y_smoteenn[test_index]\n",
        "    rf.fit(x_train_fold, y_smoteenn_train_fold)\n",
        "    lst_accu_stratified.append(rf.score(x_test_fold, y_smoteenn_test_fold))\n",
        "\n",
        "\n",
        "# Print the output.\n",
        "print('Cross validation accuracy:', lst_accu_stratified)\n",
        "print('\\nMaximum Accuracy That can be obtained from this model is:', max(lst_accu_stratified)*100, '%')\n",
        "print('\\nMinimum Accuracy:', min(lst_accu_stratified)*100, '%')\n",
        "print('\\nOverall Accuracy:', mean(lst_accu_stratified)*100, '%')\n",
        "print('\\nStandard Deviation is:', stdev(lst_accu_stratified))"
      ],
      "metadata": {
        "id": "kWHnvqHZbuKP",
        "colab": {
          "base_uri": "https://localhost:8080/"
        },
        "outputId": "7487d327-c0c3-4c27-d2d9-a463e0392037"
      },
      "execution_count": null,
      "outputs": [
        {
          "output_type": "stream",
          "name": "stdout",
          "text": [
            "Cross validation accuracy: [0.9199110122358176, 0.9132369299221357, 0.9091583240637746, 0.918026706231454, 0.9183976261127597, 0.9154302670623146, 0.9176557863501483, 0.9117210682492581, 0.9102373887240356, 0.9094955489614244]\n",
            "\n",
            "Maximum Accuracy That can be obtained from this model is: 91.99110122358177 %\n",
            "\n",
            "Minimum Accuracy: 90.91583240637746 %\n",
            "\n",
            "Overall Accuracy: 91.43270657913124 %\n",
            "\n",
            "Standard Deviation is: 0.004062008480428836\n"
          ]
        }
      ]
    },
    {
      "cell_type": "code",
      "source": [
        "#F1_score(Random Forest)\n",
        "skf = StratifiedKFold(n_splits=10, shuffle=True, random_state=1)\n",
        "lst_accu_stratified = []\n",
        "\n",
        "  \n",
        "for train_index, test_index in skf.split(X_smoteenn, y_smoteenn):\n",
        "    x_train_fold, x_test_fold = X_smoteenn[train_index], X_smoteenn[test_index]\n",
        "    y_smoteenn_train_fold, y_smoteenn_test_fold = y_smoteenn[train_index], y_smoteenn[test_index]\n",
        "    rf.fit(x_train_fold, y_smoteenn_train_fold)\n",
        "    pred_values = rf.predict(x_test_fold)\n",
        "    acc = f1_score(pred_values , y_smoteenn_test_fold)\n",
        "    lst_accu_stratified.append(acc)  \n",
        "\n",
        "# Print the output.\n",
        "lst_accu_stratified = sum(lst_accu_stratified)/10\n",
        "print('F1 score:', format(lst_accu_stratified))"
      ],
      "metadata": {
        "id": "ofIUpXYrbx0B",
        "colab": {
          "base_uri": "https://localhost:8080/"
        },
        "outputId": "850237c9-21ac-446c-e2a2-8b3f2dc179fe"
      },
      "execution_count": null,
      "outputs": [
        {
          "output_type": "stream",
          "name": "stdout",
          "text": [
            "F1 score: 0.9312917133914491\n"
          ]
        }
      ]
    },
    {
      "cell_type": "code",
      "source": [
        "#Accuracy(Extra Tree)\n",
        "skf = StratifiedKFold(n_splits=10, shuffle=True, random_state=1)\n",
        "lst_accu_stratified = []\n",
        "\n",
        "  \n",
        "for train_index, test_index in skf.split(X_smoteenn, y_smoteenn):\n",
        "    x_train_fold, x_test_fold = X_smoteenn[train_index], X_smoteenn[test_index]\n",
        "    y_smoteenn_train_fold, y_smoteenn_test_fold = y_smoteenn[train_index], y_smoteenn[test_index]\n",
        "    extr.fit(x_train_fold, y_smoteenn_train_fold)\n",
        "    lst_accu_stratified.append(extr.score(x_test_fold, y_smoteenn_test_fold))\n",
        "\n",
        "\n",
        "# Print the output.\n",
        "print('Cross validation accuracy:', lst_accu_stratified)\n",
        "print('\\nMaximum Accuracy That can be obtained from this model is:', max(lst_accu_stratified)*100, '%')\n",
        "print('\\nMinimum Accuracy:', min(lst_accu_stratified)*100, '%')\n",
        "print('\\nOverall Accuracy:', mean(lst_accu_stratified)*100, '%')\n",
        "print('\\nStandard Deviation is:', stdev(lst_accu_stratified))"
      ],
      "metadata": {
        "id": "Wlj1RJTib3nv",
        "colab": {
          "base_uri": "https://localhost:8080/"
        },
        "outputId": "9c5e49ec-a098-4756-f057-578edbccf375"
      },
      "execution_count": null,
      "outputs": [
        {
          "output_type": "stream",
          "name": "stdout",
          "text": [
            "Cross validation accuracy: [0.9417871709306637, 0.9380793474230626, 0.9399332591768632, 0.9410237388724035, 0.9406528189910979, 0.9343471810089021, 0.9439910979228486, 0.9391691394658753, 0.9358308605341247, 0.9369436201780416]\n",
            "\n",
            "Maximum Accuracy That can be obtained from this model is: 94.39910979228486 %\n",
            "\n",
            "Minimum Accuracy: 93.43471810089021 %\n",
            "\n",
            "Overall Accuracy: 93.91758234503882 %\n",
            "\n",
            "Standard Deviation is: 0.0029224346882528464\n"
          ]
        }
      ]
    },
    {
      "cell_type": "code",
      "source": [
        "#F1_score(Extra Tree)\n",
        "skf = StratifiedKFold(n_splits=10, shuffle=True, random_state=1)\n",
        "lst_accu_stratified = []\n",
        "\n",
        "  \n",
        "for train_index, test_index in skf.split(X_smoteenn, y_smoteenn):\n",
        "    x_train_fold, x_test_fold = X_smoteenn[train_index], X_smoteenn[test_index]\n",
        "    y_smoteenn_train_fold, y_smoteenn_test_fold = y_smoteenn[train_index], y_smoteenn[test_index]\n",
        "    extr.fit(x_train_fold, y_smoteenn_train_fold)\n",
        "    pred_values = extr.predict(x_test_fold)\n",
        "    acc = f1_score(pred_values , y_smoteenn_test_fold)\n",
        "    lst_accu_stratified.append(acc)  \n",
        "\n",
        "# Print the output.\n",
        "lst_accu_stratified = sum(lst_accu_stratified)/10\n",
        "print('F1 score:', format(lst_accu_stratified))"
      ],
      "metadata": {
        "id": "EIQP9h4gb8Xp",
        "colab": {
          "base_uri": "https://localhost:8080/"
        },
        "outputId": "c320ff85-5c6a-4b75-cd75-bc60bda44bda"
      },
      "execution_count": null,
      "outputs": [
        {
          "output_type": "stream",
          "name": "stdout",
          "text": [
            "F1 score: 0.9520780860160596\n"
          ]
        }
      ]
    },
    {
      "cell_type": "code",
      "source": [
        "#Accuracy(XGBoost)\n",
        "skf = StratifiedKFold(n_splits=10, shuffle=True, random_state=1)\n",
        "lst_accu_stratified = []\n",
        "\n",
        "  \n",
        "for train_index, test_index in skf.split(X_smoteenn, y_smoteenn):\n",
        "    x_train_fold, x_test_fold = X_smoteenn[train_index], X_smoteenn[test_index]\n",
        "    y_smoteenn_train_fold, y_smoteenn_test_fold = y_smoteenn[train_index], y_smoteenn[test_index]\n",
        "    xgb.fit(x_train_fold, y_smoteenn_train_fold)\n",
        "    lst_accu_stratified.append(xgb.score(x_test_fold, y_smoteenn_test_fold))\n",
        "\n",
        "\n",
        "# Print the output.\n",
        "print('Cross validation accuracy:', lst_accu_stratified)\n",
        "print('\\nMaximum Accuracy That can be obtained from this model is:', max(lst_accu_stratified)*100, '%')\n",
        "print('\\nMinimum Accuracy:', min(lst_accu_stratified)*100, '%')\n",
        "print('\\nOverall Accuracy:', mean(lst_accu_stratified)*100, '%')\n",
        "print('\\nStandard Deviation is:', stdev(lst_accu_stratified))"
      ],
      "metadata": {
        "id": "TxO0PObNcMak",
        "colab": {
          "base_uri": "https://localhost:8080/"
        },
        "outputId": "1b154184-2668-4734-ad78-c7430f4d3d0d"
      },
      "execution_count": null,
      "outputs": [
        {
          "output_type": "stream",
          "name": "stdout",
          "text": [
            "Cross validation accuracy: [0.8984056358917315, 0.8932146829810901, 0.8846866889136077, 0.8976261127596439, 0.8898367952522255, 0.8946587537091988, 0.8905786350148368, 0.887240356083086, 0.8894658753709199, 0.8853857566765578]\n",
            "\n",
            "Maximum Accuracy That can be obtained from this model is: 89.84056358917314 %\n",
            "\n",
            "Minimum Accuracy: 88.46866889136076 %\n",
            "\n",
            "Overall Accuracy: 89.11099292652898 %\n",
            "\n",
            "Standard Deviation is: 0.004787900812417525\n"
          ]
        }
      ]
    },
    {
      "cell_type": "code",
      "source": [
        "#F1_score(XGBoost)\n",
        "skf = StratifiedKFold(n_splits=10, shuffle=True, random_state=1)\n",
        "lst_accu_stratified = []\n",
        "\n",
        "  \n",
        "for train_index, test_index in skf.split(X_smoteenn, y_smoteenn):\n",
        "    x_train_fold, x_test_fold = X_smoteenn[train_index], X_smoteenn[test_index]\n",
        "    y_smoteenn_train_fold, y_smoteenn_test_fold = y_smoteenn[train_index], y_smoteenn[test_index]\n",
        "    xgb.fit(x_train_fold, y_smoteenn_train_fold)\n",
        "    pred_values = xgb.predict(x_test_fold)\n",
        "    acc = f1_score(pred_values , y_smoteenn_test_fold)\n",
        "    lst_accu_stratified.append(acc)  \n",
        "\n",
        "# Print the output.\n",
        "lst_accu_stratified = sum(lst_accu_stratified)/10\n",
        "print('F1 score:', format(lst_accu_stratified))"
      ],
      "metadata": {
        "id": "Nkwpg-YAcQU1",
        "colab": {
          "base_uri": "https://localhost:8080/"
        },
        "outputId": "1ea5e1fd-a5b2-4fe9-9f3d-71cf5bb1e74d"
      },
      "execution_count": null,
      "outputs": [
        {
          "output_type": "stream",
          "name": "stdout",
          "text": [
            "F1 score: 0.9134175294117494\n"
          ]
        }
      ]
    },
    {
      "cell_type": "code",
      "source": [
        "#Accuracy(AdaBoost)\n",
        "skf = StratifiedKFold(n_splits=10, shuffle=True, random_state=1)\n",
        "lst_accu_stratified = []\n",
        "\n",
        "  \n",
        "for train_index, test_index in skf.split(X_smoteenn, y_smoteenn):\n",
        "    x_train_fold, x_test_fold = X_smoteenn[train_index], X_smoteenn[test_index]\n",
        "    y_smoteenn_train_fold, y_smoteenn_test_fold = y_smoteenn[train_index], y_smoteenn[test_index]\n",
        "    adb.fit(x_train_fold, y_smoteenn_train_fold)\n",
        "    lst_accu_stratified.append(adb.score(x_test_fold, y_smoteenn_test_fold))\n",
        "\n",
        "\n",
        "# Print the output.\n",
        "print('Cross validation accuracy:', lst_accu_stratified)\n",
        "print('\\nMaximum Accuracy That can be obtained from this model is:', max(lst_accu_stratified)*100, '%')\n",
        "print('\\nMinimum Accuracy:', min(lst_accu_stratified)*100, '%')\n",
        "print('\\nOverall Accuracy:', mean(lst_accu_stratified)*100, '%')\n",
        "print('\\nStandard Deviation is:', stdev(lst_accu_stratified))"
      ],
      "metadata": {
        "id": "4sjIYDS3cUPe",
        "colab": {
          "base_uri": "https://localhost:8080/"
        },
        "outputId": "1ebb5388-173e-488b-c1c0-5f562778c6c1"
      },
      "execution_count": null,
      "outputs": [
        {
          "output_type": "stream",
          "name": "stdout",
          "text": [
            "Cross validation accuracy: [0.8279569892473119, 0.8175750834260289, 0.8179458657767891, 0.836053412462908, 0.8353115727002968, 0.836053412462908, 0.8297477744807121, 0.8163946587537092, 0.8275222551928784, 0.8230712166172107]\n",
            "\n",
            "Maximum Accuracy That can be obtained from this model is: 83.6053412462908 %\n",
            "\n",
            "Minimum Accuracy: 81.63946587537092 %\n",
            "\n",
            "Overall Accuracy: 82.67632241120752 %\n",
            "\n",
            "Standard Deviation is: 0.007745278212265647\n"
          ]
        }
      ]
    },
    {
      "cell_type": "code",
      "source": [
        "#F1_score(AdaBoost)\n",
        "skf = StratifiedKFold(n_splits=10, shuffle=True, random_state=1)\n",
        "lst_accu_stratified = []\n",
        "\n",
        "  \n",
        "for train_index, test_index in skf.split(X_smoteenn, y_smoteenn):\n",
        "    x_train_fold, x_test_fold = X_smoteenn[train_index], X_smoteenn[test_index]\n",
        "    y_smoteenn_train_fold, y_smoteenn_test_fold = y_smoteenn[train_index], y_smoteenn[test_index]\n",
        "    adb.fit(x_train_fold, y_smoteenn_train_fold)\n",
        "    pred_values = adb.predict(x_test_fold)\n",
        "    acc = f1_score(pred_values , y_smoteenn_test_fold)\n",
        "    lst_accu_stratified.append(acc)  \n",
        "\n",
        "# Print the output.\n",
        "lst_accu_stratified = sum(lst_accu_stratified)/10\n",
        "print('F1 score:', format(lst_accu_stratified))"
      ],
      "metadata": {
        "id": "BqUUX_xxcZsO",
        "colab": {
          "base_uri": "https://localhost:8080/"
        },
        "outputId": "6ba38379-f0ba-4bf9-8da1-a31d3aca8793"
      },
      "execution_count": null,
      "outputs": [
        {
          "output_type": "stream",
          "name": "stdout",
          "text": [
            "F1 score: 0.8601355033487081\n"
          ]
        }
      ]
    },
    {
      "cell_type": "code",
      "source": [],
      "metadata": {
        "id": "BNPej3Bu8diZ"
      },
      "execution_count": null,
      "outputs": []
    }
  ]
}